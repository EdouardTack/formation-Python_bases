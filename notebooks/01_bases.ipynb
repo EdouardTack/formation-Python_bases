{
 "cells": [
  {
   "cell_type": "markdown",
   "metadata": {
    "deletable": true,
    "editable": true
   },
   "source": [
    "# Découverte du langage : les variables\n",
    "\n",
    "Lorsqu'une donnée est affectée à une variable en Python, il n'est pas nécessaire de déclarer son type. L'interpréteur crée la variable à la déclaration et déduit le type\n",
    "```python\n",
    "tp_nom = \"Python\"\n",
    "tp_year = 1989\n",
    "```\n",
    "Ici, `tp_nom` contient une donnée de type chaine de caractères et `tp_year` une donnée de type entier (int).\n",
    "\n",
    "Grâce à des fonctions, on peut transtyper une valeur. Dans l'exemple suivant, `tp_year` référence une valeur de type entier bien que la donnée initiale soit du type chaine de caractères\n",
    "```python\n",
    "tp_year = int(\"1989\")\n",
    "```\n",
    "\n",
    "La fonction input permet d'intéragir avec l'utilisateur afin de lui demander de saisir une donnée. La fonction input retourne une donnée de type chaine de caractères. Pensez donc à la transtyper au besoin.\n",
    "```python\n",
    "tp_nom = input('Quel est votre langage favori ? ')\n",
    "print(tp_nom)\n",
    "```\n",
    "La fonction input fonctionne dans un notebook Jupyter. Testez l'intéraction avec l'utilisateur ci-dessous."
   ]
  },
  {
   "cell_type": "code",
   "execution_count": null,
   "metadata": {
    "collapsed": false,
    "deletable": true,
    "editable": true
   },
   "outputs": [],
   "source": []
  },
  {
   "cell_type": "markdown",
   "metadata": {
    "deletable": true,
    "editable": true
   },
   "source": [
    "Pour retourner une information à l'utilisateur, nous utiliserons la fonction print qui affiche le paramètre dans le terminal. Nous pouvond ainsi afficher la variable :\n",
    "```python\n",
    "print(tp_year)\n",
    "```\n",
    "Nous pouvons aussi mettre en forme cet affichage avec des chaines de caractères. Il est préférable d'utiliser les chaines formatées avec la méthode format:\n",
    "```python\n",
    "pref_string = \"Mon langage favori est {}\"\n",
    "print(pref_string.format(tp_nom))\n",
    "```"
   ]
  },
  {
   "cell_type": "code",
   "execution_count": null,
   "metadata": {
    "collapsed": true,
    "deletable": true,
    "editable": true
   },
   "outputs": [],
   "source": []
  },
  {
   "cell_type": "markdown",
   "metadata": {
    "deletable": true,
    "editable": true
   },
   "source": [
    "## Exercices\n",
    "\n",
    "Les exercices suivants peuvent être exécutés dans ce Notebook. Certains nécessiteront d'être exécutés dans le terminal interractif et les plus avancés ne pourront être réalisés qu'avec des modules.\n",
    "\n",
    "### Manipuler les variables\n",
    "Affectez les valeurs 6.892 et 19.7 aux variables temps (secondes) et distance (mètres).\n",
    "  * Calculez et affichez la valeur de la vitesse (m/s).\n",
    "  * Améliorez l'affichage en imposant deux chiffres après le point décimal"
   ]
  },
  {
   "cell_type": "code",
   "execution_count": null,
   "metadata": {
    "collapsed": true,
    "deletable": true,
    "editable": true
   },
   "outputs": [],
   "source": []
  },
  {
   "cell_type": "markdown",
   "metadata": {
    "collapsed": true,
    "deletable": true,
    "editable": true
   },
   "source": [
    "Demander le nom et l’âge puis affichez-les ( exemple : Yoda a 800 ans ). Affichez la même phrase mais en mois ( exemple : Yoda a 9600 mois )"
   ]
  },
  {
   "cell_type": "code",
   "execution_count": null,
   "metadata": {
    "collapsed": false,
    "deletable": true,
    "editable": true
   },
   "outputs": [],
   "source": []
  },
  {
   "cell_type": "markdown",
   "metadata": {
    "deletable": true,
    "editable": true
   },
   "source": [
    "Il me reste 3 épisodes de 53 minutes de Dardevil à regarder. Combien de temps (en heures et minutes) cela représente-t-il ? Sachant qu'il est 20h42, à quelle heure irai-je me coucher si je les regarde à la suite ?"
   ]
  },
  {
   "cell_type": "code",
   "execution_count": null,
   "metadata": {
    "collapsed": false,
    "deletable": true,
    "editable": true
   },
   "outputs": [],
   "source": [
    "time_remaining = 'Il reste {}h{} à visionner.'\n",
    "end_houre = 'Vous aure fini de regarder vos émission à {}h{}'"
   ]
  },
  {
   "cell_type": "markdown",
   "metadata": {
    "deletable": true,
    "editable": true
   },
   "source": [
    "### Les listes\n",
    "Soit la liste définie ci-dessous.\n",
    "1. triez et affichez la liste\n",
    "1. ajoutez l’élément 12 à la liste et affichez la.\n",
    "1. renversez et affichez la liste\n",
    "1. affichez l’indice de l’élément 17\n",
    "1. enlevez l’élément 38 et affichez la liste\n",
    "1. affichez la sous-liste du 2ème au 3ème élément\n",
    "1. affichez la sous-liste du début au 2ème élément\n",
    "1. affichez la sous-liste du 3ème à la fin de la liste\n",
    "1. Affichez le dernier élément\n",
    "1. créez une copie de votre liste dans une nouvelle variable\n",
    "1. ajoutez à votre nouvelle liste l’élément 42, que remarquez-vous ?"
   ]
  },
  {
   "cell_type": "code",
   "execution_count": 1,
   "metadata": {
    "collapsed": false,
    "deletable": true,
    "editable": true
   },
   "outputs": [],
   "source": [
    "ma_liste = [17, 38, 10, 25, 72]"
   ]
  },
  {
   "cell_type": "markdown",
   "metadata": {
    "deletable": true,
    "editable": true
   },
   "source": [
    "Vous pouvez maintenant passer au [book 2](http://localhost:8888/notebooks/02_Structures_controle.ipynb)"
   ]
  }
 ],
 "metadata": {
  "kernelspec": {
   "display_name": "Python 3",
   "language": "python",
   "name": "python3"
  },
  "language_info": {
   "codemirror_mode": {
    "name": "ipython",
    "version": 3
   },
   "file_extension": ".py",
   "mimetype": "text/x-python",
   "name": "python",
   "nbconvert_exporter": "python",
   "pygments_lexer": "ipython3",
   "version": "3.6.0"
  }
 },
 "nbformat": 4,
 "nbformat_minor": 0
}
