{
 "cells": [
  {
   "cell_type": "markdown",
   "metadata": {
    "deletable": true,
    "editable": true
   },
   "source": [
    "## Les structures de contrôle, exercices avancés.\n",
    "\n",
    "### Conditions pultiples\n",
    "Reprenez l'exercice des conditions multiples, à savoir :\n",
    "\n",
    "On souhaite contrôler un thermostat. On fixe **T_MAX = 26** et **T_MIN = 18**. Demandez la température et simulez le comportement suivant :\n",
    "\n",
    "* Si la température est suppérieur à la température max + 5 degrés, exigez l'extinction.\n",
    "* Si la température est suppérieur à la temérature max, demandez de la diminuer.\n",
    "* Si la température est inférieur à la température limite, demandez de l'augmenter.\n",
    "* Sinon, dites que tout va bien.\n",
    "\n",
    "Incluez le script de la page précédente dans une boucle qui répète la question jusqu'à ce que tout va bien ou que l'extinction soit demandée."
   ]
  },
  {
   "cell_type": "code",
   "execution_count": null,
   "metadata": {
    "collapsed": true,
    "deletable": true,
    "editable": true
   },
   "outputs": [],
   "source": []
  },
  {
   "cell_type": "markdown",
   "metadata": {
    "deletable": true,
    "editable": true
   },
   "source": [
    "Soit la liste des médias suivants, pour chacun, posez la question si il a été vu ou non."
   ]
  },
  {
   "cell_type": "code",
   "execution_count": 1,
   "metadata": {
    "collapsed": true,
    "deletable": true,
    "editable": true
   },
   "outputs": [],
   "source": [
    "medias = [\"The Philosopher's Stone\",\n",
    "          \"The Chamber of Secrets\",\n",
    "          \"The Prisoner of Azkaban\",\n",
    "          \"the gOblet of Fire\",\n",
    "          \"the Order of the Phoenix\",\n",
    "          \"the Half-BlOOd Prince\",\n",
    "          \"the Deathly Hallows – Part 1\",\n",
    "          \"the Deathly Hallows – Part 2\"]"
   ]
  },
  {
   "cell_type": "markdown",
   "metadata": {
    "deletable": true,
    "editable": true
   },
   "source": [
    "Affichez le nombre de films restant à voir"
   ]
  },
  {
   "cell_type": "code",
   "execution_count": 3,
   "metadata": {
    "collapsed": false,
    "deletable": true,
    "editable": true
   },
   "outputs": [],
   "source": [
    "howmany = \"Il reste {} films à voir\"\n",
    "nomore = \"Il n'y a plus de film à voir\""
   ]
  },
  {
   "cell_type": "markdown",
   "metadata": {},
   "source": [
    "Affichez ligne à ligne les films restant à voir correctement formatés"
   ]
  },
  {
   "cell_type": "code",
   "execution_count": null,
   "metadata": {
    "collapsed": true
   },
   "outputs": [],
   "source": []
  }
 ],
 "metadata": {
  "kernelspec": {
   "display_name": "Python 3",
   "language": "python",
   "name": "python3"
  },
  "language_info": {
   "codemirror_mode": {
    "name": "ipython",
    "version": 3
   },
   "file_extension": ".py",
   "mimetype": "text/x-python",
   "name": "python",
   "nbconvert_exporter": "python",
   "pygments_lexer": "ipython3",
   "version": "3.6.0"
  }
 },
 "nbformat": 4,
 "nbformat_minor": 2
}
