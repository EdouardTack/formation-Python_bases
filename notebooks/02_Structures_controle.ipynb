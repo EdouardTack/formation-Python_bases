{
 "cells": [
  {
   "cell_type": "markdown",
   "metadata": {},
   "source": [
    "## Les structures de contrôle\n",
    "### Contrôle de base\n",
    "* Saisir deux nombres, comparez les pour afficher le plus petit\n",
    "* Refaire l’exercice avec l’instruction ternaire"
   ]
  },
  {
   "cell_type": "code",
   "execution_count": null,
   "metadata": {
    "collapsed": true
   },
   "outputs": [],
   "source": [
    ""
   ]
  },
  {
   "cell_type": "markdown",
   "metadata": {},
   "source": [
    "### Conditions multiples\n",
    "On désire sécuriser une enceinte pressurisée. On fixe une pression seuil **P_LIMIT**=3.5 et le volume est fixe a **VOLUME**=7.41.\n",
    "\n",
    "Le script doit simuler le comportement suivant :\n",
    "\n",
    "* Si la pression est supérieure au double du seuils : arrêt immédiat.\n",
    "* Si la pression est supérieure à la pression seuil : demander de diminuer la température\n",
    "* Si la pression est inférieur à 1 : demander d’augmenter la température\n",
    "* Sinon, déclarer que tout va bien.\n",
    "\n",
    "\n",
    "1. Écrivez le script\n",
    "2. Améliorez le script en indiquant de quelle valeur la température doit être modifiée. Rappel de thermodynamique : PV = nRT simplifié ici par PV = T.\n",
    "3. Incluez ce script dans une boucle qui répète la question tant que soit la situation est rétablie soit l’enceinte est arrêtée."
   ]
  },
  {
   "cell_type": "code",
   "execution_count": null,
   "metadata": {
    "collapsed": true
   },
   "outputs": [],
   "source": [
    "P_LIMIT=3.5\n",
    "VOLUME=7.41"
   ]
  },
  {
   "cell_type": "markdown",
   "metadata": {},
   "source": [
    "### Les Boucles\n",
    "Affichez les entiers de 0 à 15 non compris de 3 en 3 en utilisant la boucle for et la fonction range()"
   ]
  },
  {
   "cell_type": "code",
   "execution_count": null,
   "metadata": {
    "collapsed": true
   },
   "outputs": [],
   "source": [
    ""
   ]
  },
  {
   "cell_type": "markdown",
   "metadata": {},
   "source": [
    "Affichez chaque caractère d’une chaine en utilisant la boucle for"
   ]
  },
  {
   "cell_type": "code",
   "execution_count": null,
   "metadata": {
    "collapsed": true
   },
   "outputs": [],
   "source": [
    ""
   ]
  },
  {
   "cell_type": "markdown",
   "metadata": {},
   "source": [
    "Affichez chaque élément d’une liste en utilisant la boucle for"
   ]
  },
  {
   "cell_type": "code",
   "execution_count": null,
   "metadata": {
    "collapsed": true
   },
   "outputs": [],
   "source": [
    ""
   ]
  },
  {
   "cell_type": "markdown",
   "metadata": {},
   "source": [
    "Il est temps d'améliorer nos techiques avec [les fonctions](http://localhost:8888/notebooks/03_Fonctions.ipynb)"
   ]
  }
 ],
 "metadata": {
  "kernelspec": {
   "display_name": "Python 3",
   "language": "python",
   "name": "python3"
  },
  "language_info": {
   "codemirror_mode": {
    "name": "ipython",
    "version": 3.0
   },
   "file_extension": ".py",
   "mimetype": "text/x-python",
   "name": "python",
   "nbconvert_exporter": "python",
   "pygments_lexer": "ipython3",
   "version": "3.6.0"
  }
 },
 "nbformat": 4,
 "nbformat_minor": 0
}