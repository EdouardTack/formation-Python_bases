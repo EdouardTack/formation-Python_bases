{
 "cells": [
  {
   "cell_type": "markdown",
   "metadata": {},
   "source": [
    "# Découvrons l'objet\n",
    "\n",
    "La programmation orientée objet est un paradigme de programmation reposant sur des composants appelés *objets*.\n",
    "\n",
    "Un objet est une entité qui regroupe un état (une ou plusieurs données) et des comportements (des *fonctions* propres).\n",
    "\n",
    "Vous avez déjà manipulé des objets. Les données de type `list` par exemple sont des objets. Leur *état* correspond à leur valeur, la liste en tant que donnée et leur *comportements* correspondent aux méthodes que vous avez déjà manipulé comme `append()`, `sort()` ou `pop()`. Le type `list` correspond à un objet de type *simple* (il ne contient qu'une seule donnée).\n",
    "\n",
    "Les types *built in* de Python sont créés par des instructions particulières ou des fonctions elles aussi *built-in*. Les objets sont créés plus généralement en appelant la classe et en lui fournissant des paramètres.\n",
    "\n",
    "L'arborescence du Notebook contient un module `utility.demo.object_discovery` qui contient un objet `Account` tel qu'il vous a été présenté durant la formation. Cet objet attends 3 paramètres et ses attributs `id` et `balance` sont privés. La cellule suivante crée une instance de cet objet avec un identifiant, un solde à 200 et un overdraft par défaut et affecte cette instance à la variable `account`."
   ]
  },
  {
   "cell_type": "code",
   "execution_count": null,
   "metadata": {},
   "outputs": [],
   "source": [
    "from utility.demo import object_discovery\n",
    "\n",
    "account = object_discovery.Account(\"THX1138\", 200)"
   ]
  },
  {
   "cell_type": "markdown",
   "metadata": {},
   "source": [
    "Vous pouvez maintenant *manipuler* l'objet `account`. Vous pouvez obtenir son identifiant en faisant l'appel `account.nid()` ou le solde en faisant appel à `account.balance()`. Ces méthodes retournent une valeur."
   ]
  },
  {
   "cell_type": "code",
   "execution_count": null,
   "metadata": {},
   "outputs": [],
   "source": [
    "print(\"Identifiant\", account.nid())\n",
    "print(\"Solde\", account.balance())"
   ]
  },
  {
   "cell_type": "markdown",
   "metadata": {},
   "source": [
    "Vous pouvez également accéder directement à la valeur de l'`overdraft` par l'attribut."
   ]
  },
  {
   "cell_type": "code",
   "execution_count": null,
   "metadata": {},
   "outputs": [],
   "source": [
    "print(\"Overdraft\", account.overdraft)"
   ]
  },
  {
   "cell_type": "markdown",
   "metadata": {},
   "source": [
    "Puisque `Overdraft` est public, vous pouvez le modifier en affectant une nouvelle valeur à l'attribut."
   ]
  },
  {
   "cell_type": "code",
   "execution_count": null,
   "metadata": {},
   "outputs": [],
   "source": [
    "account.overdraft = True\n",
    "print(\"Overdraft\", account.overdraft)"
   ]
  },
  {
   "cell_type": "markdown",
   "metadata": {},
   "source": [
    "Cependant, vous ne pouvez pas modifier l'identifiant ou le solde en affectant une nouvelle valeur car les attributs sont privés et que vous ne pouvez pas affecter une valeur à une fonction.\n",
    "\n",
    "Plus généralement, l'identifiant ne peut pas être modifié. La règle fonctionnelle est que cette donnée associée à un compte ne peut changer une fois le compte créé.\n",
    "\n",
    "Le solde lui doit évoluer. Il évolue par des dépôts et des retraits. L'appel aux méthodes `deposit()` et `withdraw()` fera donc évoluer le solde."
   ]
  },
  {
   "cell_type": "code",
   "execution_count": null,
   "metadata": {},
   "outputs": [],
   "source": [
    "print(\"Solde\", account.balance())\n",
    "account.deposit(200)\n",
    "print(\"Solde\", account.balance())\n",
    "account.withdraw(50)\n",
    "print(\"Solde\", account.balance())"
   ]
  }
 ],
 "metadata": {
  "kernelspec": {
   "display_name": "Python 3",
   "language": "python",
   "name": "python3"
  },
  "language_info": {
   "codemirror_mode": {
    "name": "ipython",
    "version": 3
   },
   "file_extension": ".py",
   "mimetype": "text/x-python",
   "name": "python",
   "nbconvert_exporter": "python",
   "pygments_lexer": "ipython3",
   "version": "3.6.0"
  }
 },
 "nbformat": 4,
 "nbformat_minor": 2
}
