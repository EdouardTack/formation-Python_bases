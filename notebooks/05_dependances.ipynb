{
 "cells": [
  {
   "cell_type": "markdown",
   "metadata": {},
   "source": [
    "# À la découverte des dépendances\n",
    "## Importer un module\n",
    "Le répertoire courant possède un module nommé *tvshow_function*. Vous pouvez consulter les sources avec n'importe quel éditeur ou en passant par l'onglet *home* des notebooks.\n",
    "Ce module contient les fonctions de gestion d'une médiathèque. Pour pouvoir l'utiliser, il faut l'importer. Ceci est possible par l'instruction \n",
    "```python\n",
    "import tvshow_function\n",
    "```\n",
    "Cependant, si le module est importé de cette manière, l'interpréteur ne connait pas son contenu. Pour faire appel aux fonctions, il faudra préfixer tous les appels par le nom du module :\n",
    "```python\n",
    "import tvshow_function\n",
    "tvshow_function.create_tvshow(\"Dr. Who\")\n",
    "```\n",
    "La démarche étant fastidieuse, nous pouvons utiliser un alias\n",
    "```python\n",
    "import tvshow_function as tvshow\n",
    "tvshow.create_tvshow(\"Dr. Who\")\n",
    "```\n",
    "\n",
    "## exercice\n",
    "Importez le module et créez une série avec quelques épisodes. Utilisez la fonction *add_episode* afin de spécifier quelques épisodes comme *vus*."
   ]
  },
  {
   "cell_type": "code",
   "execution_count": null,
   "metadata": {
    "collapsed": false
   },
   "outputs": [],
   "source": []
  },
  {
   "cell_type": "markdown",
   "metadata": {},
   "source": [
    "Affichez les épisodes non-vus à l'aide de la fonction *list_episodes()*."
   ]
  },
  {
   "cell_type": "code",
   "execution_count": null,
   "metadata": {
    "collapsed": true
   },
   "outputs": [],
   "source": []
  },
  {
   "cell_type": "markdown",
   "metadata": {},
   "source": [
    "La fonction *list_episodes()* retourne une liste qu'il faut traiter à la main.\n",
    "\n",
    "## Importer un package\n",
    "Le projet propose une fonction pour ça dans le module *display_utilities* lui-même dans le package *utility*. Pour l'utiliser, il faut l'importer avant de l'utiliser par exemple par :\n",
    "```python\n",
    "import utility.display_utilities\n",
    "utility.display_utilities.display_elements(tvshow.list_episodes())\n",
    "```\n",
    "Là aussi, l'import est long. Nous pouvons simplifier par l'usage des alias mais également de la manière suivante :\n",
    "```python\n",
    "from utility import display_utilities\n",
    "display_utilities.display_elements(tvshow.list_episodes())\n",
    "```\n",
    "\n",
    "## Éxercice\n",
    "Affichez la liste des épisodes non-vus à l'aide de la fonction *display_elements()*."
   ]
  },
  {
   "cell_type": "code",
   "execution_count": null,
   "metadata": {
    "collapsed": true
   },
   "outputs": [],
   "source": []
  }
 ],
 "metadata": {
  "kernelspec": {
   "display_name": "Python 3",
   "language": "python",
   "name": "python3"
  },
  "language_info": {
   "codemirror_mode": {
    "name": "ipython",
    "version": 3
   },
   "file_extension": ".py",
   "mimetype": "text/x-python",
   "name": "python",
   "nbconvert_exporter": "python",
   "pygments_lexer": "ipython3",
   "version": "3.6.0"
  }
 },
 "nbformat": 4,
 "nbformat_minor": 2
}
