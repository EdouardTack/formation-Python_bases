{
 "cells": [
  {
   "cell_type": "markdown",
   "metadata": {
    "deletable": true,
    "editable": true
   },
   "source": [
    "# Les Fonctions\n",
    "Les fonctions permettent de grouper des instructions et de les appeler par un nom logique. Ceci permet entre-autres de limiter la duplication de code. Les fonctions peuvent attendre des paramètres et retourner des données.\n",
    "\n",
    "Les fonctions sont définies par l'instruction **def** et sont appelées par leur nom suivi de parenthèses contenant les paramètres nécessaires."
   ]
  },
  {
   "cell_type": "code",
   "execution_count": 4,
   "metadata": {
    "collapsed": false,
    "deletable": true,
    "editable": true
   },
   "outputs": [
    {
     "name": "stdout",
     "output_type": "stream",
     "text": [
      "Something\n"
     ]
    }
   ],
   "source": [
    "def print_something():\n",
    "    print(\"Something\")\n",
    "    \n",
    "print_something()"
   ]
  },
  {
   "cell_type": "markdown",
   "metadata": {
    "deletable": true,
    "editable": true
   },
   "source": [
    "`print_something` n'attends pas de paramètre. Vous pouvez l'appeler dans la cellule suivante (après avoir exécuté la cellule précédente afin que la fonction soit connue dans le notebook actuel)."
   ]
  },
  {
   "cell_type": "code",
   "execution_count": null,
   "metadata": {
    "collapsed": true,
    "deletable": true,
    "editable": true
   },
   "outputs": [],
   "source": []
  },
  {
   "cell_type": "markdown",
   "metadata": {
    "deletable": true,
    "editable": true
   },
   "source": [
    "Les fonctions peuvent avoir des paramètres. Testez la fonction suivante en lui passant un paramètre."
   ]
  },
  {
   "cell_type": "code",
   "execution_count": null,
   "metadata": {
    "collapsed": true,
    "deletable": true,
    "editable": true
   },
   "outputs": [],
   "source": [
    "def print_param(param_to_print):\n",
    "    print(param_to_print)"
   ]
  },
  {
   "cell_type": "markdown",
   "metadata": {
    "deletable": true,
    "editable": true
   },
   "source": [
    "Les paramètres peuvent être optionnel. Pour cela, une valeur par défaut doit leur être attribuée dans la signature de la fonction.\n",
    "Remarquez l'utilisation de l'instruction ternaire."
   ]
  },
  {
   "cell_type": "code",
   "execution_count": null,
   "metadata": {
    "collapsed": false,
    "deletable": true,
    "editable": true
   },
   "outputs": [],
   "source": [
    "def print_hello(who=\"\"):\n",
    "    print(\"Hello {}\".format(who if who else \"World\"))\n",
    "    \n",
    "print_hello()\n",
    "print_hello(\"Me\")\n",
    "print_hello(who=\"You\")"
   ]
  },
  {
   "cell_type": "markdown",
   "metadata": {
    "deletable": true,
    "editable": true
   },
   "source": [
    "Une fonction est un objet. Ne confondez pas les instructions\n",
    "```python\n",
    "print_hello\n",
    "```\n",
    "et\n",
    "```python\n",
    "print_hello()\n",
    "```\n",
    "La seconde est un appel de la fonction et retourne le retour de la fonction (None). La première est une référence à la fonction et retourne donc… La fonction. Une fonction est un *callable* et pour être *appelé*, sa déclaration doit le suivre de parenthèses.\n",
    "\n",
    "Si le nom de la fonction retourne la fonction et que ce retour peut être exécuté par ajout de parenthèses, alors nous pouvons affecter une fonction à une variable, un paramètre de fonction ou un retour de fonction. Ceci permet le mécanisme de *callback*."
   ]
  },
  {
   "cell_type": "code",
   "execution_count": null,
   "metadata": {
    "collapsed": false,
    "deletable": true,
    "editable": true
   },
   "outputs": [],
   "source": [
    "def should_i_print(what, i_should=True):\n",
    "    if i_should:\n",
    "        what()\n",
    "    else:\n",
    "        print(\"I will not\")\n",
    "        \n",
    "should_i_print(print_something)"
   ]
  },
  {
   "cell_type": "markdown",
   "metadata": {},
   "source": [
    "Dans les instructions suivantes, `my_functions` est un dictionnaire pour lesquel les valeurs sont des fonctions. Ainsi, `my_functions[clef]` est une référence vers la fonction et donc la retourne et `my_functions[clef]()` *exécute* (calls) la fonction et retourne donc son résultat.\n",
    "\n"
   ]
  },
  {
   "cell_type": "code",
   "execution_count": null,
   "metadata": {
    "collapsed": false,
    "deletable": true,
    "editable": true
   },
   "outputs": [],
   "source": [
    "my_functions = {\"basic\": print_something, \"arg\": print_param, \"polite\": print_hello}\n",
    "my_functions['basic']()\n",
    "my_functions[\"polite\"](\"Me\")"
   ]
  },
  {
   "cell_type": "markdown",
   "metadata": {
    "deletable": true,
    "editable": true
   },
   "source": [
    "## Exercices\n",
    "\n",
    "### Compteur d'éléments\n",
    "Vous vous souvenez que les instructions des derniers exercices sur les boucles étaient très similaires ? Écrivez une fonction qui permet d'afficher chaque élément d'une séquence.\n",
    "\n",
    "* Affichez chaque caractère d'une chaine à l'aide de cette fonction.\n",
    "* Affichez chaque élément d'une liste à l'aide de cette fonction.\n",
    "* Afficher chaque mot de la chaîne de caractère à l'aide de cette fonction."
   ]
  },
  {
   "cell_type": "code",
   "execution_count": null,
   "metadata": {
    "collapsed": true,
    "deletable": true,
    "editable": true
   },
   "outputs": [],
   "source": [
    "CHAR_STRING = \"Chaine de plusieurs mots\"\n",
    "ELEMENTS_LIST = [\"Liste\", \"de\", \"plusieurs\", \"elements\"]"
   ]
  },
  {
   "cell_type": "markdown",
   "metadata": {
    "deletable": true,
    "editable": true
   },
   "source": [
    "### Compteur de mots\n",
    "\n",
    "Écrire une fonction compteur_mots acceptant une chaine de caractères en argument et qui renvoie un dictionnaire contenant la fréquence de tous les mots de la chaîne."
   ]
  },
  {
   "cell_type": "code",
   "execution_count": null,
   "metadata": {
    "collapsed": true,
    "deletable": true,
    "editable": true
   },
   "outputs": [],
   "source": []
  },
  {
   "cell_type": "markdown",
   "metadata": {
    "deletable": true,
    "editable": true
   },
   "source": [
    "### Synthèse : Tables de multiplication\n",
    "\n",
    "Cet exercice va vous permettre d'exploiter plusieurs techniques vues jusqu'ici.\n",
    "* Ecrire une fonction qui affiche une table de multiplication de la valeur passée en paramètre sous la forme suivante (pour la table de 4) :\n",
    "\n",
    "```\n",
    "   4 |   8 |  12 |  16 |  20 |  24 |  28 |  32 |  36 |  40\n",
    "```\n",
    "* La fonction table multiplication doit avoir un paramètre optionnel **multiplicateur_max** qui est par défaut à 10.\n",
    "* Ecrire une fonction qui à l'aide de la fonction précédente affiche la table de Pythagore avec le format suivant :\n",
    "\n",
    "```\n",
    "---------------------------------------------------------\n",
    "  1 |   2 |   3 |   4 |   5 |   6 |   7 |   8 |   9 |  10\n",
    "  2 |   4 |   6 |   8 |  10 |  12 |  14 |  16 |  18 |  20\n",
    "  3 |   6 |   9 |  12 |  15 |  18 |  21 |  24 |  27 |  30\n",
    "  4 |   8 |  12 |  16 |  20 |  24 |  28 |  32 |  36 |  40\n",
    "  5 |  10 |  15 |  20 |  25 |  30 |  35 |  40 |  45 |  50\n",
    "  6 |  12 |  18 |  24 |  30 |  36 |  42 |  48 |  54 |  60\n",
    "  7 |  14 |  21 |  28 |  35 |  42 |  49 |  56 |  63 |  70\n",
    "  8 |  16 |  24 |  32 |  40 |  48 |  56 |  64 |  72 |  80\n",
    "  9 |  18 |  27 |  36 |  45 |  54 |  63 |  72 |  81 |  90\n",
    " 10 |  20 |  30 |  40 |  50 |  60 |  70 |  80 |  90 | 100\n",
    " ---------------------------------------------------------\n",
    " ```"
   ]
  },
  {
   "cell_type": "code",
   "execution_count": null,
   "metadata": {
    "collapsed": true,
    "deletable": true,
    "editable": true
   },
   "outputs": [],
   "source": []
  }
 ],
 "metadata": {
  "kernelspec": {
   "display_name": "Python 3",
   "language": "python",
   "name": "python3"
  },
  "language_info": {
   "codemirror_mode": {
    "name": "ipython",
    "version": 3
   },
   "file_extension": ".py",
   "mimetype": "text/x-python",
   "name": "python",
   "nbconvert_exporter": "python",
   "pygments_lexer": "ipython3",
   "version": "3.6.0"
  }
 },
 "nbformat": 4,
 "nbformat_minor": 0
}
