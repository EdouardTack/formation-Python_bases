{
 "cells": [
  {
   "cell_type": "markdown",
   "metadata": {
    "collapsed": true
   },
   "source": [
    "# Premiers pas en Python\n",
    "Ceci est un document [Jupyter Notebook](http://jupyter.org/index.html). Il va vous permettre de faire vos premiers pas en Python. Certains champs ci-dessous vous permettront de saisir des instructions Python et de les exécuter pour voir le résultat. Vous pouvez voir un *Notebook Jupyter* comme un cahier d'exercices qui mèle documentation et cas pratique.\n",
    "\n",
    "Vous pouvez faire un premier essai ci-dessous. Saisissez l'instruction\n",
    "> print('Hello world')\n",
    "\n",
    "Puis en ayant la cellule sélectionnée, appuyez sur le bouton *run*. ou dans le menu, choisissez *Cell* puis *run cells*."
   ]
  },
  {
   "cell_type": "code",
   "execution_count": null,
   "metadata": {
    "collapsed": true
   },
   "outputs": [],
   "source": []
  },
  {
   "cell_type": "markdown",
   "metadata": {},
   "source": [
    "Comme vous pouvez le constater, avec les Notebooks Jupiter, vous pouvez exécuter des instructions Python dans les champs dédiés. Dans ces champs, vous pouvez déclarer des variables et exécuter des opérations sur celles-ci."
   ]
  },
  {
   "cell_type": "code",
   "execution_count": 1,
   "metadata": {
    "collapsed": false
   },
   "outputs": [
    {
     "name": "stdout",
     "output_type": "stream",
     "text": [
      "Python a été créé en 1989\n"
     ]
    }
   ],
   "source": [
    "tp_nom = \"Python\"\n",
    "tp_year = 1989\n",
    "print(tp_nom + \" a été créé en \" + str(tp_year))"
   ]
  },
  {
   "cell_type": "markdown",
   "metadata": {},
   "source": [
    "Dans un même Notebook, les variables, fonctions ou classes déclarées dans un champ sont disponibles dans les champs suivants."
   ]
  },
  {
   "cell_type": "code",
   "execution_count": 2,
   "metadata": {
    "collapsed": false
   },
   "outputs": [
    {
     "name": "stdout",
     "output_type": "stream",
     "text": [
      "Python a bien été créé en 1989\n"
     ]
    }
   ],
   "source": [
    "print(tp_nom + \" a bien été créé en \" + str(tp_year))"
   ]
  },
  {
   "cell_type": "markdown",
   "metadata": {},
   "source": [
    "**Attention** pour que les références déclarées dans les cellules précédentes soient effectivement connues du notebook, les cellules doivent avoir été exécutées au moins une fois. Quelques exercices définiront des structures dans des cellules, assurez-vous soit de les exécuter avant les votres, soit dans en ayant sélectionné votre cellule, le menu *cell* de la page, choisissez *Run All Above*.\n",
    "\n",
    "Considérez réellement ces Notebooks comme des cahiers d'exercice mais n'oubliez pas, comme il vous a été présenté, que les instructions Python peuvent aussi s'exécuter dans un terminal intéractif. N'hésitez pas à utiliser conjointement les deux environnements.\n",
    "\n",
    "Je vous propose les notebooks suivants. Les 3 premiers suivent la présentation de la formation et vous proposent les exercices associés aux concepts présentés. Le dernier est une synthèse de ce qui vous a été présenté.\n",
    "* [Les bases](http://localhost:8888/notebooks/01_bases.ipynb)\n",
    "* [Les structures de contrôle](http://localhost:8888/notebooks/02_Structures_controle.ipynb)\n",
    "* [Les fonctions](http://localhost:8888/notebooks/03_Fonctions.ipynb)\n",
    "* [Cas pratique : un jeu de cartes](http://localhost:8888/notebooks/04_Poker.ipynb)\n",
    "\n"
   ]
  }
 ],
 "metadata": {
  "kernelspec": {
   "display_name": "Python 3",
   "language": "python",
   "name": "python3"
  },
  "language_info": {
   "codemirror_mode": {
    "name": "ipython",
    "version": 3
   },
   "file_extension": ".py",
   "mimetype": "text/x-python",
   "name": "python",
   "nbconvert_exporter": "python",
   "pygments_lexer": "ipython3",
   "version": "3.6.0"
  }
 },
 "nbformat": 4,
 "nbformat_minor": 0
}
