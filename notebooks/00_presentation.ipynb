{
 "cells": [
  {
   "cell_type": "markdown",
   "metadata": {
    "collapsed": true,
    "deletable": true,
    "editable": true
   },
   "source": [
    "# Premiers pas en Python\n",
    "Ceci est un document [Jupyter Notebook](http://jupyter.org/index.html). Il va nous permettre de faire nos premiers pas en Python.\n",
    "\n",
    "Un *Notebook* est un document composé de **cellules**. Certaines cellules, comme celle-ci, contiennet du texte mis en forme destiné à fournir des informations. D'autres, comme celle ci-dessous, permettent la saisie et l'exécution de code Python.\n",
    "\n",
    "Vous pouvez voir un *Notebook Jupyter* comme un cahier d'exercices qui mèle documentation et cas pratique.\n",
    "\n",
    "Vous pouvez faire un premier essai. Dans la cellule ci-dessous, saisissez l'instruction\n",
    "> print('Hello world')\n",
    "\n",
    "Puis, en vous assurant que la cellule est sélectionnée, appuyez sur le bouton *run*. ou dans le menu, choisissez *Cell* puis *run cells*."
   ]
  },
  {
   "cell_type": "code",
   "execution_count": null,
   "metadata": {
    "collapsed": false,
    "deletable": true,
    "editable": true
   },
   "outputs": [],
   "source": []
  },
  {
   "cell_type": "markdown",
   "metadata": {
    "deletable": true,
    "editable": true
   },
   "source": [
    "Comme vous pouvez le constater, avec les Notebooks Jupiter, vous pouvez exécuter des instructions Python dans les champs dédiés. Dans ces champs, vous pouvez déclarer des variables et exécuter des instructions comme dans l'exemple ci-dessous."
   ]
  },
  {
   "cell_type": "code",
   "execution_count": 1,
   "metadata": {
    "collapsed": false,
    "deletable": true,
    "editable": true
   },
   "outputs": [
    {
     "name": "stdout",
     "output_type": "stream",
     "text": [
      "Python a été créé en 1989\n"
     ]
    }
   ],
   "source": [
    "tp_nom = \"Python\"\n",
    "tp_year = 1989\n",
    "print(tp_nom + \" a été créé en \" + str(tp_year))"
   ]
  },
  {
   "cell_type": "markdown",
   "metadata": {
    "deletable": true,
    "editable": true
   },
   "source": [
    "Dans un même Notebook, les variables, fonctions ou classes déclarées dans une cellule sont disponibles dans les cellules suivantes."
   ]
  },
  {
   "cell_type": "code",
   "execution_count": 2,
   "metadata": {
    "collapsed": false,
    "deletable": true,
    "editable": true
   },
   "outputs": [
    {
     "name": "stdout",
     "output_type": "stream",
     "text": [
      "Python a bien été créé en 1989\n"
     ]
    }
   ],
   "source": [
    "print(tp_nom + \" a bien été créé en \" + str(tp_year))"
   ]
  },
  {
   "cell_type": "markdown",
   "metadata": {
    "deletable": true,
    "editable": true
   },
   "source": [
    "**Attention** pour que les références déclarées dans les cellules précédentes soient effectivement connues du notebook, les cellules doivent avoir été exécutées au moins une fois dans la session active (depuis que vous avez exécuté le Notebook). Un Notebook enregistre un état. Lorsque vous découvrez ce Notebook, les cellules précédentes ont été exécutées dans une session précédente, le résultat a été affiché et l'état sauvegardé. Les variables `tp_nom` et `tp_year` ne sont pas connues dans la session actuelle. Il faut donc exécuter à nouveau les cellules.\n",
    "\n",
    "Quelques exercices définiront des structures dans des cellules, assurez-vous soit de les exécuter avant les votres, soit, en ayant sélectionné votre cellule, dans le menu *cell* de la page, choisissez *Run All Above*.\n",
    "\n",
    "Considérez réellement ces Notebooks comme des cahiers d'exercice mais n'oubliez pas, comme il vous a été présenté, que les instructions Python peuvent aussi s'exécuter dans un terminal intéractif. N'hésitez pas à utiliser conjointement les deux environnements.\n",
    "\n",
    "Je vous propose pour commencer et suivre la formation un [premier notebook libre](http://localhost:8888/notebooks/00_free_notebook.ipynb). Rappelez-vous que vous pouvez créer autant de notebooks que vous le souhaitez.\n",
    "\n",
    "Je vous propose les notebooks suivants. Les 3 premiers suivent la présentation de la formation et vous proposent les exercices associés aux concepts présentés. Le dernier est une synthèse de ce qui vous a été présenté.\n",
    "* [Les bases](http://localhost:8888/notebooks/01_bases.ipynb)\n",
    "* [Les structures de contrôle](http://localhost:8888/notebooks/02_Structures_controle.ipynb)\n",
    "* [Les fonctions](http://localhost:8888/notebooks/03_Fonctions.ipynb)\n",
    "* [Cas pratique : un jeu de cartes](http://localhost:8888/notebooks/04_Poker.ipynb)\n",
    "\n"
   ]
  }
 ],
 "metadata": {
  "kernelspec": {
   "display_name": "Python 3",
   "language": "python",
   "name": "python3"
  },
  "language_info": {
   "codemirror_mode": {
    "name": "ipython",
    "version": 3
   },
   "file_extension": ".py",
   "mimetype": "text/x-python",
   "name": "python",
   "nbconvert_exporter": "python",
   "pygments_lexer": "ipython3",
   "version": "3.6.0"
  }
 },
 "nbformat": 4,
 "nbformat_minor": 0
}
