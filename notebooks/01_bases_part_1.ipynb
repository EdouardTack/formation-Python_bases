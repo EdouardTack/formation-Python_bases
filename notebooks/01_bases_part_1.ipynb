{
 "cells": [
  {
   "cell_type": "markdown",
   "metadata": {},
   "source": [
    "# Découverte du langage\n",
    "## les variables\n",
    "\n",
    "Nous avons vu que lorsqu'une donnée est affectée à une variable en Python, nous ne déclarons pas de type. Le type est défini par la valeur affectée à la variable.\n",
    "```python\n",
    "tp_name = \"Python\"\n",
    "tp_year = 1989\n",
    "```\n",
    "Ici, `tp_name` contient une donnée de type chaine de caractères (str) et `tp_year` une donnée de type entier (int). Vous pouvez vérifier ceci par la fonction `type(tp_name)`.\n",
    "\n",
    "Grâce à des fonctions, on peut transtyper une valeur. Dans l'exemple suivant, `tp_year` référence une valeur de type entier bien que la donnée initiale soit du type chaine de caractères\n",
    "```python\n",
    "tp_year = int(\"1989\")\n",
    "```\n",
    "\n",
    "Afficher la valeur d'une variable est réalisé avec la fonction `print()`:\n",
    "```python\n",
    "print(tp_name)\n",
    "```\n",
    "\n",
    "### Exercices\n",
    "Affectez les valeurs **6.892** et **19.7** aux variables `temps` (secondes) et `distance` (mètres). Calculez et affichez la valeur de la vitesse (qui sera donc en m/s)."
   ]
  },
  {
   "cell_type": "code",
   "execution_count": null,
   "metadata": {},
   "outputs": [],
   "source": []
  },
  {
   "cell_type": "markdown",
   "metadata": {},
   "source": [
    "La cellule suivante déclare une variable `duree_heure`. Affectez à une variable `nombre_jours` une valeur correspondant au nombre de jours de formation. Multipliez les deux variables pour obtenir la durée en heure de la formation. Attention au type…"
   ]
  },
  {
   "cell_type": "code",
   "execution_count": null,
   "metadata": {
    "collapsed": true
   },
   "outputs": [],
   "source": [
    "duree_heure = \"7\""
   ]
  },
  {
   "cell_type": "markdown",
   "metadata": {},
   "source": [
    "## Les collections : introduction à la manipulation d'objets\n",
    "\n",
    "### Les séquences\n",
    "Les collections sont un type de données contienant plusieurs valeurs. Les chaines de caractères (`str`) sont des collections de caractères, les listes (`list`) et les tuples (`tuple`) des collections d'objets. Vous pouvez accéder à un élément de la collection par son indice avec la sémantique suivante :\n",
    "```python\n",
    "knights = [\"Arthur\", \"Lancelot\", \"Galahad\", \"Robin\", \"Karadoc\"]\n",
    "knights[2] # retourne l'élément à l'indice 2\n",
    "```\n",
    "Vous pouvez également extraire une partie de la liste en sous-liste avec la sémantique\n",
    "```python\n",
    "knights[2:4] # retourne une liste de 2 éléments\n",
    "knights[:2] # retourne la liste des deux premiers éléments\n",
    "```\n",
    "Vous pouvez avoir la taille de la collection avec la fonction\n",
    "```python\n",
    "len(knights)\n",
    "```\n",
    "En python, **tout est objet**. Un objet est une entité caractérisée par :\n",
    " - un état (des données)\n",
    " - des comportements (des fonctions associées appelées méthodes)\n",
    " \n",
    "Contrairement aux types numériques, les collections utilisent et se manipulent à l'aide de méthodes. Leur *état* correspond aux données contenues.\n",
    "Ainsi, si nous avons une liste, tirer la liste est réalisé par une méthode :\n",
    "```python\n",
    "knights.sort() # tri la liste\n",
    "```\n",
    "Vous pouvez consulter les autres méthodes disponibles pour le type liste par les fonctions `dir(list)` et `help(list)`."
   ]
  },
  {
   "cell_type": "markdown",
   "metadata": {},
   "source": [
    "### Exercices\n",
    "Soit la liste définie ci-dessous.\n",
    "1. triez et affichez la liste\n",
    "1. ajoutez l’élément 12 à la liste et affichez la.\n",
    "1. renversez et affichez la liste\n",
    "1. affichez l’indice de l’élément 17\n",
    "1. enlevez l’élément 38 et affichez la liste\n",
    "1. affichez la sous-liste du 2ème au 3ème élément\n",
    "1. affichez la sous-liste du début au 2ème élément\n",
    "1. affichez la sous-liste du 3ème à la fin de la liste\n",
    "1. Affichez le dernier élément\n",
    "1. créez une copie de votre liste dans une nouvelle variable\n",
    "1. ajoutez à votre nouvelle liste l’élément 42, que remarquez-vous ?"
   ]
  },
  {
   "cell_type": "code",
   "execution_count": 1,
   "metadata": {
    "collapsed": true
   },
   "outputs": [],
   "source": [
    "ma_liste = [17, 38, 10, 25, 72]"
   ]
  },
  {
   "cell_type": "markdown",
   "metadata": {},
   "source": [
    "## Les dictionnaires\n",
    "Les dictionnaires permettent de stocker des couples clef/valeur afin d'accéder à la valeur par la clef.\n",
    "\n",
    "### Exercices\n",
    "Soit le dictionnaire ci-dessous\n",
    "1. ajoutez la valeur *Python* associée à la clef *subject*\n",
    "1. ajoutez la clef *duration* qui a pour valeur le nombre de jours de la formation.\n",
    "1. vérifiez la présence de la clef *attendents*\n",
    "1. créer la clef *attendents* associée à une liste contenant votre nom\n",
    "1. listez les clefs de ce dictionnaire\n",
    "1. ajoutez aux participants (clef *attendents*) le nom de votre voisin"
   ]
  },
  {
   "cell_type": "code",
   "execution_count": null,
   "metadata": {},
   "outputs": [],
   "source": [
    "training = {}"
   ]
  }
 ],
 "metadata": {
  "kernelspec": {
   "display_name": "Python 3",
   "language": "python",
   "name": "python3"
  },
  "language_info": {
   "codemirror_mode": {
    "name": "ipython",
    "version": 3
   },
   "file_extension": ".py",
   "mimetype": "text/x-python",
   "name": "python",
   "nbconvert_exporter": "python",
   "pygments_lexer": "ipython3",
   "version": "3.6.0"
  }
 },
 "nbformat": 4,
 "nbformat_minor": 1
}
