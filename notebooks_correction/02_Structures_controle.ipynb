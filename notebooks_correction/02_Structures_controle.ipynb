{
 "cells": [
  {
   "cell_type": "markdown",
   "metadata": {
    "deletable": true,
    "editable": true
   },
   "source": [
    "## Les structures de contrôle\n",
    "### Contrôle de base\n",
    "* Déclarez deux nombres, comparez les pour afficher le plus petit\n",
    "* Refaire l’exercice avec l’instruction ternaire"
   ]
  },
  {
   "cell_type": "code",
   "execution_count": 1,
   "metadata": {
    "collapsed": false,
    "deletable": true,
    "editable": true
   },
   "outputs": [
    {
     "name": "stdout",
     "output_type": "stream",
     "text": [
      "6\n"
     ]
    }
   ],
   "source": [
    "a = 6\n",
    "b = 9\n",
    "\n",
    "if a < b:\n",
    "    print(a)\n",
    "else:\n",
    "    print(b)"
   ]
  },
  {
   "cell_type": "code",
   "execution_count": 2,
   "metadata": {
    "collapsed": false,
    "deletable": true,
    "editable": true
   },
   "outputs": [
    {
     "name": "stdout",
     "output_type": "stream",
     "text": [
      "6\n"
     ]
    }
   ],
   "source": [
    "print(a if a < b else b)"
   ]
  },
  {
   "cell_type": "markdown",
   "metadata": {
    "deletable": true,
    "editable": true
   },
   "source": [
    "### Conditions multiples\n",
    "On souhaite contrôler un thermostat. On fixe **T_MAX = 26** et **T_MIN = 18**. Demandez la température et simulez le comportement suivant :\n",
    "\n",
    "* Si la température est suppérieur à la température max + 5 degrés, exigez l'extinction.\n",
    "* Si la température est suppérieur à la temérature max, demandez de la diminuer.\n",
    "* Si la température est inférieur à la température limite, demandez de l'augmenter.\n",
    "* Sinon, dites que tout va bien.\n",
    "\n",
    "\n",
    "1. Écrivez le script simulant ce comportement.\n",
    "2. Améliorez le script en indiquant de quelle valeur la température doit être modifiée."
   ]
  },
  {
   "cell_type": "code",
   "execution_count": null,
   "metadata": {
    "collapsed": false,
    "deletable": true,
    "editable": true
   },
   "outputs": [],
   "source": [
    "T_MAX = 26\n",
    "T_MIN = 18\n",
    "\n",
    "temp = int(input(\"quelle est la température ? \"))\n",
    "\n",
    "if temp > T_MAX + 5:\n",
    "    print('Turn off !')\n",
    "elif temp > T_MAX:\n",
    "    print(\"trop chaud, diminuez de {}°C\".format(temp - T_MAX))\n",
    "elif temp < T_MIN:\n",
    "    print(\"trop froid, augmentez de {}°C\".format(T_MIN - temp))\n",
    "else:\n",
    "    print(\"Ok, tout va bien\")"
   ]
  },
  {
   "cell_type": "markdown",
   "metadata": {
    "deletable": true,
    "editable": true
   },
   "source": [
    "### Les Boucles\n",
    "Affichez les entiers de 0 à 15 de 3 en 3 en utilisant la boucle for et la fonction range()"
   ]
  },
  {
   "cell_type": "code",
   "execution_count": 7,
   "metadata": {
    "collapsed": false,
    "deletable": true,
    "editable": true
   },
   "outputs": [
    {
     "name": "stdout",
     "output_type": "stream",
     "text": [
      "0\n",
      "3\n",
      "6\n",
      "9\n",
      "12\n",
      "15\n"
     ]
    }
   ],
   "source": [
    "for i in range(0, 16, 3):\n",
    "    print(i)"
   ]
  },
  {
   "cell_type": "markdown",
   "metadata": {
    "deletable": true,
    "editable": true
   },
   "source": [
    "Affichez chaque caractère d’une chaine en utilisant la boucle for"
   ]
  },
  {
   "cell_type": "code",
   "execution_count": 8,
   "metadata": {
    "collapsed": false,
    "deletable": true,
    "editable": true
   },
   "outputs": [
    {
     "name": "stdout",
     "output_type": "stream",
     "text": [
      "u\n",
      "n\n",
      "e\n",
      " \n",
      "c\n",
      "h\n",
      "a\n",
      "i\n",
      "n\n",
      "e\n"
     ]
    }
   ],
   "source": [
    "my_string = 'une chaine'\n",
    "for element in my_string:\n",
    "    print(element)"
   ]
  },
  {
   "cell_type": "markdown",
   "metadata": {
    "deletable": true,
    "editable": true
   },
   "source": [
    "Affichez chaque élément d’une liste en utilisant la boucle for"
   ]
  },
  {
   "cell_type": "code",
   "execution_count": 9,
   "metadata": {
    "collapsed": false,
    "deletable": true,
    "editable": true
   },
   "outputs": [
    {
     "name": "stdout",
     "output_type": "stream",
     "text": [
      "Arthur\n",
      "Lancelot\n",
      "Robin\n"
     ]
    }
   ],
   "source": [
    "my_list = ['Arthur', 'Lancelot', 'Robin']\n",
    "for element in my_list:\n",
    "    print(element)"
   ]
  },
  {
   "cell_type": "markdown",
   "metadata": {
    "deletable": true,
    "editable": true
   },
   "source": [
    "Soit la liste de médias suivante. Chaque élément est une liste de deux éléments, une chaine et un booléen. Le bolléen représente si un média a été visionné (True) ou non (False).\n",
    "\n",
    "1. Générez et affichez une liste contenant uniquement les titres des médias\n",
    "2. Générez et affichez une liste des titres des médias **non visionnés**."
   ]
  },
  {
   "cell_type": "code",
   "execution_count": 11,
   "metadata": {
    "collapsed": false,
    "deletable": true,
    "editable": true
   },
   "outputs": [],
   "source": [
    "medias = [[\"The Philosopher's Stone\", True],\n",
    "          [\"The Chamber of Secrets\", True],\n",
    "          [\"The Prisoner of Azkaban\", False],\n",
    "          [\"the Goblet of Fire\", True],\n",
    "          [\"the Order of the Phoenix\", False],\n",
    "          [\"the Half-Blood Prince\", True],\n",
    "          [\"the Deathly Hallows – Part 1\", False],\n",
    "          [\"the Deathly Hallows – Part 2\", False]]"
   ]
  },
  {
   "cell_type": "code",
   "execution_count": 12,
   "metadata": {
    "collapsed": false
   },
   "outputs": [
    {
     "name": "stdout",
     "output_type": "stream",
     "text": [
      "[\"The Philosopher's Stone\", 'The Chamber of Secrets', 'The Prisoner of Azkaban', 'the Goblet of Fire', 'the Order of the Phoenix', 'the Half-Blood Prince', 'the Deathly Hallows – Part 1', 'the Deathly Hallows – Part 2']\n"
     ]
    }
   ],
   "source": [
    "print([media[0] for media in medias])"
   ]
  },
  {
   "cell_type": "code",
   "execution_count": 13,
   "metadata": {
    "collapsed": false
   },
   "outputs": [
    {
     "name": "stdout",
     "output_type": "stream",
     "text": [
      "['The Prisoner of Azkaban', 'the Order of the Phoenix', 'the Deathly Hallows – Part 1', 'the Deathly Hallows – Part 2']\n"
     ]
    }
   ],
   "source": [
    "print([media[0] for media in medias if not media[1]])"
   ]
  },
  {
   "cell_type": "markdown",
   "metadata": {
    "deletable": true,
    "editable": true
   },
   "source": [
    "Si vous êtes en avance, vous pouvez passer aux [exercices avancés](http://localhost:8888/notebooks/02bis_Structures_controle.ipynb).\n",
    "\n",
    "Après il sera temps de passez aux [fonctions](http://localhost:8888/notebooks/03_Fonctions.ipynb)"
   ]
  }
 ],
 "metadata": {
  "kernelspec": {
   "display_name": "Python 3",
   "language": "python",
   "name": "python3"
  },
  "language_info": {
   "codemirror_mode": {
    "name": "ipython",
    "version": 3
   },
   "file_extension": ".py",
   "mimetype": "text/x-python",
   "name": "python",
   "nbconvert_exporter": "python",
   "pygments_lexer": "ipython3",
   "version": "3.6.0"
  }
 },
 "nbformat": 4,
 "nbformat_minor": 0
}
