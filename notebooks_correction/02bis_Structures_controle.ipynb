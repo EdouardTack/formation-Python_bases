{
 "cells": [
  {
   "cell_type": "markdown",
   "metadata": {
    "deletable": true,
    "editable": true
   },
   "source": [
    "## Les structures de contrôle, exercices avancés.\n",
    "\n",
    "### Conditions pultiples\n",
    "Reprenez l'exercice des conditions multiples, à savoir :\n",
    "\n",
    "On souhaite contrôler un thermostat. On fixe **T_MAX = 26** et **T_MIN = 18**. Demandez la température et simulez le comportement suivant :\n",
    "\n",
    "* Si la température est suppérieur à la température max + 5 degrés, exigez l'extinction.\n",
    "* Si la température est suppérieur à la temérature max, demandez de la diminuer.\n",
    "* Si la température est inférieur à la température limite, demandez de l'augmenter.\n",
    "* Sinon, dites que tout va bien.\n",
    "\n",
    "Incluez le script de la page précédente dans une boucle qui répète la question jusqu'à ce que tout va bien ou que l'extinction soit demandée."
   ]
  },
  {
   "cell_type": "code",
   "execution_count": null,
   "metadata": {
    "collapsed": false,
    "deletable": true,
    "editable": true
   },
   "outputs": [],
   "source": [
    "T_MAX = 26\n",
    "T_MIN = 18\n",
    "\n",
    "while True:\n",
    "    temp = int(input(\"quelle est la température ? \"))\n",
    "\n",
    "    if temp > T_MAX + 5:\n",
    "        print('Turn off !')\n",
    "        break\n",
    "    elif temp > T_MAX:\n",
    "        print(\"trop chaud, diminuez de {}°C\".format(temp - T_MAX))\n",
    "    elif temp < T_MIN:\n",
    "        print(\"trop froid, augmentez de {}°C\".format(T_MIN - temp))\n",
    "    else:\n",
    "        print(\"Ok, tout va bien\")\n",
    "        break"
   ]
  },
  {
   "cell_type": "markdown",
   "metadata": {
    "deletable": true,
    "editable": true
   },
   "source": [
    "Soit la liste des médias suivants, pour chacun, posez la question si il a été vu ou non."
   ]
  },
  {
   "cell_type": "code",
   "execution_count": null,
   "metadata": {
    "collapsed": true,
    "deletable": true,
    "editable": true
   },
   "outputs": [],
   "source": [
    "medias = [\"The Philosopher's Stone\",\n",
    "          \"The Chamber of Secrets\",\n",
    "          \"The Prisoner of Azkaban\",\n",
    "          \"the gOblet of Fire\",\n",
    "          \"the Order of the Phoenix\",\n",
    "          \"the Half-BlOOd Prince\",\n",
    "          \"the Deathly Hallows – Part 1\",\n",
    "          \"the Deathly Hallows – Part 2\"]"
   ]
  },
  {
   "cell_type": "code",
   "execution_count": null,
   "metadata": {
    "collapsed": false
   },
   "outputs": [],
   "source": [
    "viewed_medias = []\n",
    "\n",
    "for media in medias:\n",
    "    seen = input(\"Avez-vous vu {} ? (y/n) \".format(media.capitalize()))\n",
    "    if seen not in 'yn':\n",
    "        print('Ok, on va dire que non…')\n",
    "        seen = 'n'\n",
    "    viewed_medias.append([media, True if seen == 'y' else False])\n"
   ]
  },
  {
   "cell_type": "markdown",
   "metadata": {
    "deletable": true,
    "editable": true
   },
   "source": [
    "Affichez le nombre de films restant à voir"
   ]
  },
  {
   "cell_type": "code",
   "execution_count": null,
   "metadata": {
    "collapsed": false,
    "deletable": true,
    "editable": true
   },
   "outputs": [],
   "source": [
    "howmany = \"Il reste {} films à voir\"\n",
    "nomore = \"Il n'y a plus de film à voir\""
   ]
  },
  {
   "cell_type": "code",
   "execution_count": null,
   "metadata": {
    "collapsed": false
   },
   "outputs": [],
   "source": [
    "movies_to_watch = len([media for media in viewed_medias if not media[1]])\n",
    "\n",
    "print(howmany.format(movies_to_watch) if movies_to_watch else nomore)"
   ]
  },
  {
   "cell_type": "markdown",
   "metadata": {
    "deletable": true,
    "editable": true
   },
   "source": [
    "Affichez ligne à ligne les films restant à voir correctement formatés"
   ]
  },
  {
   "cell_type": "code",
   "execution_count": null,
   "metadata": {
    "collapsed": false,
    "deletable": true,
    "editable": true
   },
   "outputs": [],
   "source": [
    "if movies_to_watch:\n",
    "    print('Il vous reste à voir :')\n",
    "    for media in viewed_medias:\n",
    "        if not media[1]:\n",
    "            print(' - {}'.format(media[0].capitalize()))"
   ]
  },
  {
   "cell_type": "markdown",
   "metadata": {},
   "source": [
    "Voilà…"
   ]
  }
 ],
 "metadata": {
  "kernelspec": {
   "display_name": "Python 3",
   "language": "python",
   "name": "python3"
  },
  "language_info": {
   "codemirror_mode": {
    "name": "ipython",
    "version": 3
   },
   "file_extension": ".py",
   "mimetype": "text/x-python",
   "name": "python",
   "nbconvert_exporter": "python",
   "pygments_lexer": "ipython3",
   "version": "3.6.0"
  }
 },
 "nbformat": 4,
 "nbformat_minor": 2
}
