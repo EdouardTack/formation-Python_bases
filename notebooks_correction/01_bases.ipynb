{
 "cells": [
  {
   "cell_type": "markdown",
   "metadata": {},
   "source": [
    "# Découverte du langage\n",
    "## les variables\n",
    "\n",
    "Nous avons vu que lorsqu'une donnée est affectée à une variable en Python, il n'est pas nécessaire de déclarer son type. L'interpréteur crée la variable à la déclaration et déduit le type\n",
    "```python\n",
    "tp_nom = \"Python\"\n",
    "tp_year = 1989\n",
    "```\n",
    "Ici, `tp_nom` contient une donnée de type chaine de caractères (str) et `tp_year` une donnée de type entier (int). Vous pouvez vérifier ceci par la fonction `type(tp_nom)`.\n",
    "\n",
    "Grâce à des fonctions, on peut transtyper une valeur. Dans l'exemple suivant, `tp_year` référence une valeur de type entier bien que la donnée initiale soit du type chaine de caractères\n",
    "```python\n",
    "tp_year = int(\"1989\")\n",
    "```\n",
    "\n",
    "Afficher la valeur d'une variable est réalisé avec la fonction `print()`:\n",
    "```python\n",
    "print(tp_nom)\n",
    "```\n",
    "\n",
    "### Exercices\n",
    "Affectez les valeurs 6.892 et 19.7 aux variables temps (secondes) et distance (mètres). Calculez et affichez la valeur de la vitesse (m/s)."
   ]
  },
  {
   "cell_type": "code",
   "execution_count": 3,
   "metadata": {},
   "outputs": [
    {
     "name": "stdout",
     "output_type": "stream",
     "text": [
      "vitesse 2.8583865351131745\n"
     ]
    }
   ],
   "source": [
    "temps = 6.892\n",
    "distance = 19.7\n",
    "vitesse = distance/temps\n",
    "print(\"vitesse\", vitesse)"
   ]
  },
  {
   "cell_type": "markdown",
   "metadata": {},
   "source": [
    "La cellule suivante déclare une variable `duree_heure`. Affectez à une variable `nb_jours` une valeur correspondant au nombre de jours de formation. Multipliez les deux variables pour obtenir la durée en heure de la formation. Attention au type…"
   ]
  },
  {
   "cell_type": "code",
   "execution_count": 4,
   "metadata": {},
   "outputs": [
    {
     "name": "stdout",
     "output_type": "stream",
     "text": [
      "durée 28\n"
     ]
    }
   ],
   "source": [
    "duree_heure = \"7\"\n",
    "nb_jours = 4\n",
    "print(\"durée\", int(duree_heure) * nb_jours)"
   ]
  },
  {
   "cell_type": "markdown",
   "metadata": {},
   "source": [
    "## Saisie de l'utilisateur\n",
    "La fonction input permet de demander à l'utilisateur de saisir une donnée. La fonction input retourne une donnée de type chaine de caractères. Pensez donc à la transtyper au besoin.\n",
    "```python\n",
    "tp_nom = input('Quel est votre langage favori ? ')\n",
    "print(tp_nom)\n",
    "tp_year = int(input('Quand a-t-il été créé ? ')\n",
    "print(tp_year)\n",
    "```\n",
    "### Exercices\n",
    "La fonction input fonctionne dans un notebook Jupyter. Testez la ci-dessous en demandant le nom et l’âge puis en affichant ces données. Rappelez-vous que la fonction `print` peut avoir plusieurs arguments qu'elle affichera à la suite. Vous pouvez donc l'utiliser comme\n",
    "```python\n",
    "print(tp_nom, tp_year)\n",
    "```"
   ]
  },
  {
   "cell_type": "code",
   "execution_count": 5,
   "metadata": {},
   "outputs": [
    {
     "name": "stdout",
     "output_type": "stream",
     "text": [
      "Quel est votre nom ? Doctor\n",
      "Et votre age ? 800\n",
      "Doctor 800\n"
     ]
    }
   ],
   "source": [
    "nom = input(\"Quel est votre nom ? \")\n",
    "age = int(input(\"Et votre age ? \"))\n",
    "print(nom, age)"
   ]
  },
  {
   "cell_type": "markdown",
   "metadata": {},
   "source": [
    "Affichez de nouveau ces données mais avec l'âge en mois."
   ]
  },
  {
   "cell_type": "code",
   "execution_count": 6,
   "metadata": {},
   "outputs": [
    {
     "name": "stdout",
     "output_type": "stream",
     "text": [
      "Doctor 9600\n"
     ]
    }
   ],
   "source": [
    "print(nom, age * 12)"
   ]
  },
  {
   "cell_type": "markdown",
   "metadata": {},
   "source": [
    "## Mise en forme de chaines de caractères\n",
    "L'affichage précédent est limité dans sa mise en forme. L'outil le plus efficace passe par la méthode `format()`:\n",
    "```python\n",
    "pref_string = \"Mon langage favori est {}\"\n",
    "print(pref_string.format(tp_nom))\n",
    "```\n",
    "Pour plus d'informations sur le microlangage de formatage donsultez [la documentation](https://docs.python.org/3.6/library/string.html#format-string-syntax).\n",
    "### Exercices\n",
    "Améliorez l'affichage de la vitesse calculée précédemment en imposant deux chiffres après le point décimal."
   ]
  },
  {
   "cell_type": "code",
   "execution_count": 8,
   "metadata": {},
   "outputs": [
    {
     "name": "stdout",
     "output_type": "stream",
     "text": [
      "Vitesse 2.86 m/s\n"
     ]
    }
   ],
   "source": [
    "print(\"Vitesse {:.2f} m/s\".format(vitesse))"
   ]
  },
  {
   "cell_type": "markdown",
   "metadata": {
    "collapsed": true
   },
   "source": [
    "Affichez une phrase des noms et âge en forme ( exemple : Yoda a 800 ans )"
   ]
  },
  {
   "cell_type": "code",
   "execution_count": 9,
   "metadata": {},
   "outputs": [
    {
     "name": "stdout",
     "output_type": "stream",
     "text": [
      "Doctor a 800 ans\n"
     ]
    }
   ],
   "source": [
    "print(\"{} a {} ans\".format(nom, age))"
   ]
  },
  {
   "cell_type": "markdown",
   "metadata": {},
   "source": [
    "## Opérations sur données\n",
    "Vous avez vu durant la formation comment appliquer des opérations entre les données.\n",
    "### Exercices\n",
    "Il me reste 3 épisodes de 53 minutes de Daredevil à regarder.\n",
    " * Combien de temps (en heures et minutes) cela représente-t-il ?\n",
    " * Sachant qu'il est 20h42, à quelle heure irai-je me coucher si je les regarde à la suite ?"
   ]
  },
  {
   "cell_type": "code",
   "execution_count": 10,
   "metadata": {},
   "outputs": [],
   "source": [
    "TIME_REMAINING = 'Il reste {}h{} à visionner.'\n",
    "END_HOURE = 'Vous aurez fini de regarder vos émission à {}h{}'"
   ]
  },
  {
   "cell_type": "code",
   "execution_count": 13,
   "metadata": {},
   "outputs": [
    {
     "name": "stdout",
     "output_type": "stream",
     "text": [
      "Il reste 2h39 à visionner.\n"
     ]
    }
   ],
   "source": [
    "remaining_time = 3 * 53\n",
    "\n",
    "print(TIME_REMAINING.format(remaining_time // 60, remaining_time % 60))"
   ]
  },
  {
   "cell_type": "code",
   "execution_count": 14,
   "metadata": {},
   "outputs": [
    {
     "name": "stdout",
     "output_type": "stream",
     "text": [
      "Vous aurez fini de regarder vos émission à 23h21\n"
     ]
    }
   ],
   "source": [
    "bed_time = 20 * 60 + 42 + remaining_time\n",
    "\n",
    "bed_hour, bed_minutes = divmod(bed_time, 60)\n",
    "\n",
    "print(END_HOURE.format(bed_hour, bed_minutes))"
   ]
  },
  {
   "cell_type": "markdown",
   "metadata": {},
   "source": [
    "## Les collections : introduction à la manipulation d'objets\n",
    "Les collections sont un type de données contienant plusieurs valeurs. Les chaines de caractères (`str`) sont des collections de caractères, les listes (`list`) et les tuples (`tuple`) des collections d'objets. Vous pouvez accéder à un élément de la collection par son indice avec la sémantique suivante :\n",
    "```python\n",
    "knights = [\"Arthur\", \"Lancelot\", \"Galahad\", \"Robin\", \"Karadoc\"]\n",
    "knights[2] # retourne l'élément à l'indice 2\n",
    "```\n",
    "Vous pouvez également extraire une partie de la liste en sous-liste avec la sémantique\n",
    "```python\n",
    "knights[2:4] # retourne une liste de 2 éléments\n",
    "knights[:2] # retourne la liste des deux premiers éléments\n",
    "```\n",
    "\n",
    "En python, **tout est objet**. Un objet est une entité caractérisée par :\n",
    " - un état (des données)\n",
    " - des comportements (des fonctions associées appelées méthodes)\n",
    " \n",
    "Contrairement aux types numériques, les collections utilisent et se manipulent à l'aide de méthodes. Leur *état* correspond aux données contenues.\n",
    "Ainsi, si nous avons une liste, tirer la liste est réalisé par une méthode :\n",
    "```python\n",
    "knights.sort() # tri la liste\n",
    "```"
   ]
  },
  {
   "cell_type": "markdown",
   "metadata": {},
   "source": [
    "### Exercices\n",
    "Soit la liste définie ci-dessous.\n",
    "1. triez et affichez la liste\n",
    "1. ajoutez l’élément 12 à la liste et affichez la.\n",
    "1. renversez et affichez la liste\n",
    "1. affichez l’indice de l’élément 17\n",
    "1. enlevez l’élément 38 et affichez la liste\n",
    "1. affichez la sous-liste du 2ème au 3ème élément\n",
    "1. affichez la sous-liste du début au 2ème élément\n",
    "1. affichez la sous-liste du 3ème à la fin de la liste\n",
    "1. Affichez le dernier élément\n",
    "1. créez une copie de votre liste dans une nouvelle variable\n",
    "1. ajoutez à votre nouvelle liste l’élément 42, que remarquez-vous ?"
   ]
  },
  {
   "cell_type": "code",
   "execution_count": 15,
   "metadata": {},
   "outputs": [],
   "source": [
    "ma_liste = [17, 38, 10, 25, 72]"
   ]
  },
  {
   "cell_type": "code",
   "execution_count": 16,
   "metadata": {},
   "outputs": [
    {
     "name": "stdout",
     "output_type": "stream",
     "text": [
      "[10, 17, 25, 38, 72]\n"
     ]
    }
   ],
   "source": [
    "# triez et affichez la liste\n",
    "ma_liste.sort()\n",
    "print(ma_liste)"
   ]
  },
  {
   "cell_type": "code",
   "execution_count": 17,
   "metadata": {},
   "outputs": [
    {
     "name": "stdout",
     "output_type": "stream",
     "text": [
      "[10, 17, 25, 38, 72, 12]\n"
     ]
    }
   ],
   "source": [
    "# ajoutez l’élément 12 à la liste et affichez la\n",
    "ma_liste.append(12)\n",
    "print(ma_liste)"
   ]
  },
  {
   "cell_type": "code",
   "execution_count": 18,
   "metadata": {},
   "outputs": [
    {
     "name": "stdout",
     "output_type": "stream",
     "text": [
      "[12, 72, 38, 25, 17, 10]\n"
     ]
    }
   ],
   "source": [
    "# renversez et affichez la liste\n",
    "ma_liste.reverse()\n",
    "print(ma_liste)"
   ]
  },
  {
   "cell_type": "code",
   "execution_count": 19,
   "metadata": {},
   "outputs": [
    {
     "name": "stdout",
     "output_type": "stream",
     "text": [
      "4\n"
     ]
    }
   ],
   "source": [
    "# affichez l’indice de l’élément 17\n",
    "print(ma_liste.index(17))"
   ]
  },
  {
   "cell_type": "code",
   "execution_count": 20,
   "metadata": {},
   "outputs": [
    {
     "name": "stdout",
     "output_type": "stream",
     "text": [
      "[12, 72, 25, 17, 10]\n"
     ]
    }
   ],
   "source": [
    "# enlevez l’élément 38 et affichez la liste\n",
    "ma_liste.remove(38)\n",
    "print(ma_liste)"
   ]
  },
  {
   "cell_type": "code",
   "execution_count": 22,
   "metadata": {},
   "outputs": [
    {
     "name": "stdout",
     "output_type": "stream",
     "text": [
      "[25]\n"
     ]
    }
   ],
   "source": [
    "# affichez la sous-liste du 2ème au 3ème élément\n",
    "print(ma_liste[2:3])"
   ]
  },
  {
   "cell_type": "code",
   "execution_count": 23,
   "metadata": {},
   "outputs": [
    {
     "name": "stdout",
     "output_type": "stream",
     "text": [
      "[12, 72]\n"
     ]
    }
   ],
   "source": [
    "#affichez la sous-liste du début au 2ème élément\n",
    "print(ma_liste[:2])"
   ]
  },
  {
   "cell_type": "code",
   "execution_count": 25,
   "metadata": {},
   "outputs": [
    {
     "name": "stdout",
     "output_type": "stream",
     "text": [
      "[25, 17, 10]\n"
     ]
    }
   ],
   "source": [
    "#affichez la sous-liste du 3ème à la fin de la liste\n",
    "print(ma_liste[2:])"
   ]
  },
  {
   "cell_type": "code",
   "execution_count": 26,
   "metadata": {},
   "outputs": [
    {
     "name": "stdout",
     "output_type": "stream",
     "text": [
      "10\n"
     ]
    }
   ],
   "source": [
    "# Affichez le dernier élément\n",
    "print(ma_liste[-1])"
   ]
  },
  {
   "cell_type": "code",
   "execution_count": 27,
   "metadata": {},
   "outputs": [],
   "source": [
    "# créez une copie de votre liste dans une nouvelle variable\n",
    "new_list = ma_liste.copy()\n",
    "\n",
    "other_new_list = ma_liste[:]\n",
    "\n",
    "third_new_list = list(ma_liste)"
   ]
  },
  {
   "cell_type": "code",
   "execution_count": 28,
   "metadata": {},
   "outputs": [
    {
     "name": "stdout",
     "output_type": "stream",
     "text": [
      "[12, 72, 25, 17, 10, 42]\n",
      "[12, 72, 25, 17, 10]\n"
     ]
    }
   ],
   "source": [
    "# ajoutez à votre nouvelle liste l’élément 42, que remarquez-vous ?\n",
    "new_list.append(42)\n",
    "print(new_list)\n",
    "print(ma_liste)\n",
    "# Tout ok puisque bien une copie"
   ]
  },
  {
   "cell_type": "markdown",
   "metadata": {},
   "source": [
    "Vous pouvez maintenant passer au [book 2](http://localhost:8888/notebooks/02_Structures_controle.ipynb)"
   ]
  }
 ],
 "metadata": {
  "kernelspec": {
   "display_name": "Python 3",
   "language": "python",
   "name": "python3"
  },
  "language_info": {
   "codemirror_mode": {
    "name": "ipython",
    "version": 3
   },
   "file_extension": ".py",
   "mimetype": "text/x-python",
   "name": "python",
   "nbconvert_exporter": "python",
   "pygments_lexer": "ipython3",
   "version": "3.6.0"
  }
 },
 "nbformat": 4,
 "nbformat_minor": 1
}
