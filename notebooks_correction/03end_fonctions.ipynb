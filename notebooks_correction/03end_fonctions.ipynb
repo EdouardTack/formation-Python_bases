{
 "cells": [
  {
   "cell_type": "markdown",
   "metadata": {
    "deletable": true,
    "editable": true
   },
   "source": [
    "## Fonctions avancées\n",
    "\n",
    "**Note** : ce sujet est avant tout un sujet de réflexion avant d'être un exercice.\n",
    "\n",
    "Nous souhaitons développer une version simplifiée de médiathèque pour gérer une notion de série et son avancée de visualisation comme dans les exercices des structures de contrôle. Une série a donc un titre (de la série) et des épisodes représentés par leur titre.\n",
    "\n",
    "Écrivez une fonction qui va initialiser le suivi d'une série. Cette fonction doit avoir un paramètre titre de la série.\n",
    "Les épisodes seront gérés par une liste *non ordonnées* (dans le sens des numéros d'épisode) de chaines de caractères (les titres) associées à un booléen qui indique si le média a été visionné (True) ou non (False).\n",
    "\n",
    "Version avancée : cette fonction doit pouvoir alimenter la liste avec un nombe non déterminé de chaines de caractères représentant les titres d'épisodes."
   ]
  },
  {
   "cell_type": "code",
   "execution_count": 27,
   "metadata": {
    "collapsed": false,
    "deletable": true,
    "editable": true
   },
   "outputs": [],
   "source": [
    "episodes = []\n",
    "\n",
    "def create_show(title):\n",
    "    global show_title\n",
    "    show_title = title\n",
    "    episodes.clear\n",
    "    \n",
    "def create_show_advanced(title, *initial_episodes):\n",
    "    global show_title\n",
    "    show_title = title\n",
    "    episodes.clear\n",
    "    episodes.extends(initial_episodes)"
   ]
  },
  {
   "cell_type": "markdown",
   "metadata": {
    "deletable": true,
    "editable": true
   },
   "source": [
    "Écrivez une fonction qui permet d'ajouter un épisode à cette liste. De manière optionnelle, elle doit pouvoir indiquer que l'épisode a été visionné, "
   ]
  },
  {
   "cell_type": "code",
   "execution_count": 28,
   "metadata": {
    "collapsed": true,
    "deletable": true,
    "editable": true
   },
   "outputs": [],
   "source": [
    "def add_episode(title, viewed= False):\n",
    "    episodes.append([title, viewed])"
   ]
  },
  {
   "cell_type": "markdown",
   "metadata": {
    "deletable": true,
    "editable": true
   },
   "source": [
    "Écrivez une fonction qui permet de spécifier qu'un épisode a été visionné."
   ]
  },
  {
   "cell_type": "code",
   "execution_count": 29,
   "metadata": {
    "collapsed": true,
    "deletable": true,
    "editable": true
   },
   "outputs": [],
   "source": [
    "def is_viewed(episode_title):\n",
    "    for episode in episodes:\n",
    "        if episode[0] == episode_title:\n",
    "            episode[1] = True\n",
    "            break"
   ]
  },
  {
   "cell_type": "markdown",
   "metadata": {
    "deletable": true,
    "editable": true
   },
   "source": [
    "Pour que la fonction précédente soit utilisable, il faudrait une fonction qui retourne la liste des médias non visionnés.\n",
    "\n",
    "Vous pouvez compléter par une fonction retournant tous les médias."
   ]
  },
  {
   "cell_type": "code",
   "execution_count": 30,
   "metadata": {
    "collapsed": true,
    "deletable": true,
    "editable": true
   },
   "outputs": [],
   "source": [
    "def get_non_viewed_episodes():\n",
    "    return [episode for episode in episodes if not episode[1]]\n",
    "\n",
    "def get_episodes():\n",
    "    return [episode for episode in episodes]"
   ]
  },
  {
   "cell_type": "markdown",
   "metadata": {
    "deletable": true,
    "editable": true
   },
   "source": [
    "Le champ suivant permet de tester le bon fonctionnement des fonctions précédentes."
   ]
  },
  {
   "cell_type": "code",
   "execution_count": null,
   "metadata": {
    "collapsed": false,
    "deletable": true,
    "editable": true
   },
   "outputs": [],
   "source": [
    "create_show('Dr.Who')\n",
    "print(show_title)\n",
    "add_episode('Rose', True)\n",
    "add_episode('Daleks')\n",
    "add_episode('The Master', True)\n",
    "add_episode('Cybermen')\n",
    "\n",
    "print(get_episodes())\n",
    "print(get_non_viewed_episodes())\n",
    "is_viewed(get_non_viewed_episodes()[0][0])\n",
    "print(get_non_viewed_episodes())\n",
    "print(get_episodes())"
   ]
  },
  {
   "cell_type": "markdown",
   "metadata": {
    "deletable": true,
    "editable": true
   },
   "source": [
    "Si tout fonctionne comme attendu, votre code a rencontré un certain succès. Il vous est donc demandé de le faire évoluer.\n",
    "\n",
    "Nous souhaitons maintenant gérer le suivi de plusieurs séries et de plusieurs utilisateurss. Un utilisateur est caractérisé par un nom. Il faut donc modifier les fonctions afin que :\n",
    " * la création d'une série doit permettre la gestion de plusieurs séries\n",
    " * l'ajout d'un épisode est lié à une série\n",
    " * le chagement d'état (visionné) est spécifique à un utilisateur\n",
    " * la liste des médias non-visionnés est spécifique à un utilisateur\n",
    "\n",
    "Modifiez les fonctions afin de prendre en compte ces évolutions. Attention cependant, votre code précédent est en production. Les évolutions ne doivent pas empêcher le code du champ précédent de fonctionner…"
   ]
  },
  {
   "cell_type": "code",
   "execution_count": null,
   "metadata": {
    "collapsed": true,
    "deletable": true,
    "editable": true
   },
   "outputs": [],
   "source": []
  }
 ],
 "metadata": {
  "kernelspec": {
   "display_name": "Python 3",
   "language": "python",
   "name": "python3"
  },
  "language_info": {
   "codemirror_mode": {
    "name": "ipython",
    "version": 3
   },
   "file_extension": ".py",
   "mimetype": "text/x-python",
   "name": "python",
   "nbconvert_exporter": "python",
   "pygments_lexer": "ipython3",
   "version": "3.6.0"
  }
 },
 "nbformat": 4,
 "nbformat_minor": 2
}
