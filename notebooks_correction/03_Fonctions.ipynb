{
 "cells": [
  {
   "cell_type": "markdown",
   "metadata": {
    "deletable": true,
    "editable": true
   },
   "source": [
    "# Les Fonctions\n",
    "Les fonctions permettent de grouper des instructions et de les appeler par un nom logique. Ceci permet entre-autres de limiter la duplication de code. Les fonctions peuvent attendre des paramètres et retourner des données.\n",
    "\n",
    "Les fonctions sont définies par l'instruction **def** et sont appelées par leur nom suivi de parenthèses contenant les paramètres nécessaires."
   ]
  },
  {
   "cell_type": "code",
   "execution_count": 4,
   "metadata": {
    "collapsed": false,
    "deletable": true,
    "editable": true
   },
   "outputs": [
    {
     "name": "stdout",
     "output_type": "stream",
     "text": [
      "Something\n"
     ]
    }
   ],
   "source": [
    "def print_something():\n",
    "    print(\"Something\")\n",
    "    \n",
    "print_something()"
   ]
  },
  {
   "cell_type": "markdown",
   "metadata": {
    "deletable": true,
    "editable": true
   },
   "source": [
    "`print_something` n'attends pas de paramètre. Vous pouvez l'appeler dans la cellule suivante (après avoir exécuté la cellule précédente afin que la fonction soit connue dans le notebook actuel)."
   ]
  },
  {
   "cell_type": "code",
   "execution_count": null,
   "metadata": {
    "collapsed": true,
    "deletable": true,
    "editable": true
   },
   "outputs": [],
   "source": []
  },
  {
   "cell_type": "markdown",
   "metadata": {
    "deletable": true,
    "editable": true
   },
   "source": [
    "Les fonctions peuvent avoir des paramètres. Testez la fonction suivante en lui passant un paramètre."
   ]
  },
  {
   "cell_type": "code",
   "execution_count": null,
   "metadata": {
    "collapsed": true,
    "deletable": true,
    "editable": true
   },
   "outputs": [],
   "source": [
    "def print_param(param_to_print):\n",
    "    print(param_to_print)"
   ]
  },
  {
   "cell_type": "markdown",
   "metadata": {
    "deletable": true,
    "editable": true
   },
   "source": [
    "Les paramètres peuvent être optionnel. Pour cela, une valeur par défaut doit leur être attribuée dans la signature de la fonction.\n",
    "Remarquez l'utilisation de l'instruction ternaire."
   ]
  },
  {
   "cell_type": "code",
   "execution_count": null,
   "metadata": {
    "collapsed": false,
    "deletable": true,
    "editable": true
   },
   "outputs": [],
   "source": [
    "def print_hello(who=\"\"):\n",
    "    print(\"Hello {}\".format(who if who else \"World\"))\n",
    "    \n",
    "print_hello()\n",
    "print_hello(\"Me\")\n",
    "print_hello(who=\"You\")"
   ]
  },
  {
   "cell_type": "markdown",
   "metadata": {
    "deletable": true,
    "editable": true
   },
   "source": [
    "Une fonction est un objet. Ne confondez pas les instructions\n",
    "```python\n",
    "print_hello\n",
    "```\n",
    "et\n",
    "```python\n",
    "print_hello()\n",
    "```\n",
    "La seconde est un appel de la fonction et retourne le retour de la fonction (None). La première est une référence à la fonction et retourne donc… La fonction. Une fonction est un *callable* et pour être *appelé*, sa déclaration doit le suivre de parenthèses.\n",
    "\n",
    "Si le nom de la fonction retourne la fonction et que ce retour peut être exécuté par ajout de parenthèses, alors nous pouvons affecter une fonction à une variable, un paramètre de fonction ou un retour de fonction. Ceci permet le mécanisme de *callback*."
   ]
  },
  {
   "cell_type": "code",
   "execution_count": null,
   "metadata": {
    "collapsed": false,
    "deletable": true,
    "editable": true
   },
   "outputs": [],
   "source": [
    "def should_i_print(what, i_should=True):\n",
    "    if i_should:\n",
    "        what()\n",
    "    else:\n",
    "        print(\"I will not\")\n",
    "        \n",
    "should_i_print(print_something)"
   ]
  },
  {
   "cell_type": "markdown",
   "metadata": {
    "deletable": true,
    "editable": true
   },
   "source": [
    "Dans les instructions suivantes, `my_functions` est un dictionnaire pour lesquel les valeurs sont des fonctions. Ainsi, `my_functions[clef]` est une référence vers la fonction et donc la retourne et `my_functions[clef]()` *exécute* (calls) la fonction et retourne donc son résultat.\n",
    "\n"
   ]
  },
  {
   "cell_type": "code",
   "execution_count": null,
   "metadata": {
    "collapsed": false,
    "deletable": true,
    "editable": true
   },
   "outputs": [],
   "source": [
    "my_functions = {\"basic\": print_something, \"arg\": print_param, \"polite\": print_hello}\n",
    "my_functions['basic']()\n",
    "my_functions[\"polite\"](\"Me\")"
   ]
  },
  {
   "cell_type": "markdown",
   "metadata": {
    "deletable": true,
    "editable": true
   },
   "source": [
    "## Exercices\n",
    "\n",
    "### Compteur d'éléments\n",
    "Vous vous souvenez que les instructions des derniers exercices sur les boucles étaient très similaires ? Écrivez une fonction qui permet d'afficher chaque élément d'une séquence.\n",
    "\n",
    "* Affichez chaque caractère d'une chaine à l'aide de cette fonction.\n",
    "* Affichez chaque élément d'une liste à l'aide de cette fonction.\n",
    "* Afficher chaque mot de la chaîne de caractère à l'aide de cette fonction."
   ]
  },
  {
   "cell_type": "code",
   "execution_count": 1,
   "metadata": {
    "collapsed": true,
    "deletable": true,
    "editable": true
   },
   "outputs": [],
   "source": [
    "CHAR_STRING = \"Chaine de plusieurs mots\"\n",
    "ELEMENTS_LIST = [\"Liste\", \"de\", \"plusieurs\", \"elements\"]\n",
    "\n",
    "def elements_of(sequence):\n",
    "    for element in sequence:\n",
    "        print(element)"
   ]
  },
  {
   "cell_type": "code",
   "execution_count": 2,
   "metadata": {
    "collapsed": false,
    "deletable": true,
    "editable": true
   },
   "outputs": [
    {
     "name": "stdout",
     "output_type": "stream",
     "text": [
      "C\n",
      "h\n",
      "a\n",
      "i\n",
      "n\n",
      "e\n",
      " \n",
      "d\n",
      "e\n",
      " \n",
      "p\n",
      "l\n",
      "u\n",
      "s\n",
      "i\n",
      "e\n",
      "u\n",
      "r\n",
      "s\n",
      " \n",
      "m\n",
      "o\n",
      "t\n",
      "s\n"
     ]
    }
   ],
   "source": [
    "elements_of(CHAR_STRING)"
   ]
  },
  {
   "cell_type": "code",
   "execution_count": 3,
   "metadata": {
    "collapsed": false,
    "deletable": true,
    "editable": true
   },
   "outputs": [
    {
     "name": "stdout",
     "output_type": "stream",
     "text": [
      "Liste\n",
      "de\n",
      "plusieurs\n",
      "elements\n"
     ]
    }
   ],
   "source": [
    "elements_of(ELEMENTS_LIST)"
   ]
  },
  {
   "cell_type": "code",
   "execution_count": 4,
   "metadata": {
    "collapsed": false,
    "deletable": true,
    "editable": true
   },
   "outputs": [
    {
     "name": "stdout",
     "output_type": "stream",
     "text": [
      "Chaine\n",
      "de\n",
      "plusieurs\n",
      "mots\n"
     ]
    }
   ],
   "source": [
    "elements_of(CHAR_STRING.split())"
   ]
  },
  {
   "cell_type": "markdown",
   "metadata": {
    "deletable": true,
    "editable": true
   },
   "source": [
    "### Compteur de mots\n",
    "\n",
    "Écrire une fonction compteur_mots acceptant une chaine de caractères en argument et qui renvoie un dictionnaire contenant la fréquence de tous les mots de la chaîne."
   ]
  },
  {
   "cell_type": "code",
   "execution_count": 5,
   "metadata": {
    "collapsed": true,
    "deletable": true,
    "editable": true
   },
   "outputs": [],
   "source": [
    "SENTENCE = 'Fear is the path to the dark side. Fear leads to anger. Anger leads to hate. Hate leads to suffering.'"
   ]
  },
  {
   "cell_type": "code",
   "execution_count": 8,
   "metadata": {
    "collapsed": false,
    "deletable": true,
    "editable": true
   },
   "outputs": [
    {
     "name": "stdout",
     "output_type": "stream",
     "text": [
      "[('fear', 2), ('is', 1), ('the', 2), ('path', 1), ('to', 4), ('dark', 1), ('side', 1), ('leads', 3), ('anger', 2), ('hate', 2), ('suffering', 1)]\n"
     ]
    }
   ],
   "source": [
    "words_counter = {}\n",
    "for word in SENTENCE.replace('.', '').lower().split():\n",
    "    words_counter[word] = words_counter.get(word, 0) + 1\n",
    "    \n",
    "print(list(words_counter.items()))"
   ]
  },
  {
   "cell_type": "markdown",
   "metadata": {},
   "source": [
    "### Test de palindromes\n",
    "Le palindrome est une figure de style désignant un texte ou un mot dont l'ordre des lettres (hors espaces) reste le même qu'on le lise de gauche à droite ou de droite à gauche. Écrivez une fonction acceptant une chaine de caractères et retournant vrai si la chaine est un palindrome."
   ]
  },
  {
   "cell_type": "code",
   "execution_count": 12,
   "metadata": {
    "collapsed": false
   },
   "outputs": [
    {
     "name": "stdout",
     "output_type": "stream",
     "text": [
      "it is\n",
      "is not\n",
      "it is\n"
     ]
    }
   ],
   "source": [
    "sentences = [\"Esope reste ici et se repose\",\n",
    "             \"La mariée ira mal\",\n",
    "             \"radar\"]\n",
    "\n",
    "def is_palindrome(a_string):\n",
    "    a_string = a_string.replace(' ', '').lower()\n",
    "    for i, j in enumerate(a_string):\n",
    "        if j != a_string[-(i + 1)]:\n",
    "            break\n",
    "    else:\n",
    "        return True\n",
    "\n",
    "for sentence in sentences:\n",
    "    print(\"it is\" if is_palindrome(sentence) else \"is not\")"
   ]
  },
  {
   "cell_type": "markdown",
   "metadata": {
    "deletable": true,
    "editable": true
   },
   "source": [
    "Si vous êtes en avance, vous pouvez voir les [exercices avancés](http://localhost:8888/notebooks/03bis_fonctions.ipynb).\n",
    "\n",
    "Par la suite, vous avez [l'exercice récapitulatif](http://localhost:8888/notebooks/03end_fonctions.ipynb)."
   ]
  }
 ],
 "metadata": {
  "kernelspec": {
   "display_name": "Python 3",
   "language": "python",
   "name": "python3"
  },
  "language_info": {
   "codemirror_mode": {
    "name": "ipython",
    "version": 3
   },
   "file_extension": ".py",
   "mimetype": "text/x-python",
   "name": "python",
   "nbconvert_exporter": "python",
   "pygments_lexer": "ipython3",
   "version": "3.6.0"
  }
 },
 "nbformat": 4,
 "nbformat_minor": 0
}
