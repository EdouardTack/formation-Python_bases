{
 "cells": [
  {
   "cell_type": "markdown",
   "metadata": {},
   "source": [
    "# Les structures de contrôle\n",
    "Les structures de contrôle permettent d'exécuter du code soit\n",
    " - de manière conditionnelle\n",
    " - en boucle\n",
    "\n",
    "Les boucles consistent à définir du code qui sera répété plusieurs fois. Il existe deux structures pour deux cas différents :\n",
    "\n",
    " - La structure `for` permet d'itérer sur des collections.\n",
    "\n",
    " - La structure `while` exécute du code tant qu'une condition est vrai.\n",
    "\n",
    "### Exercices\n",
    "\n",
    "Soit la saison de 12 de Big Bang Theory. Dans cette liste, chaque épisode est représenté sous forme d'une liste de deux valeurs : son titre et un *flag* représentant si je l'ai vu ou non."
   ]
  },
  {
   "cell_type": "code",
   "execution_count": 1,
   "metadata": {},
   "outputs": [],
   "source": [
    "bbt_s12 = [['The Conjugal Configuration', True],\n",
    "           ['The Wedding Gift Wormhole', True],\n",
    "           ['The Procreation Calculation', True],\n",
    "           ['The Tam Turbulence', True],\n",
    "           ['The Planetarium Collision', True],\n",
    "           ['The Imitation Perturbation', True],\n",
    "           ['The Grant Allocation Derivation', True],\n",
    "           ['The Consummation Deviation', True],\n",
    "           ['The Citation Negation', True],\n",
    "           ['The VCR Illumination', False],\n",
    "           ['The Paintball Scattering', False],\n",
    "           ['The Propagation Proposition', False],\n",
    "           ['The Confirmation Polarization', False],\n",
    "           ['The Meteorite Manifestation', False],\n",
    "           ['The Donation Oscillation', False],\n",
    "           ['The D & D Vortex', False],\n",
    "           ['The Conference Valuation', False],\n",
    "           ['The Laureate Accumulation', False],\n",
    "           ['The Inspiration Deprivation', False],\n",
    "           ['The Decision Reverberation', False],\n",
    "           ['The Plagiarism Schism', False],\n",
    "           ['The Maternal Conclusion', False],\n",
    "           ['The Change Constant', False],\n",
    "           ['The Stockholm Syndrome', False]]"
   ]
  },
  {
   "cell_type": "markdown",
   "metadata": {},
   "source": [
    "### Pour se chauffer\n",
    "Les 2 questions suivantes servent à vous mettre sur la voie, vous pouvez les sauter si celle de l'exercice vous parrait évidente.\n",
    "\n",
    "Affichez les titres (uniquement les titres) de chaque épisode."
   ]
  },
  {
   "cell_type": "code",
   "execution_count": null,
   "metadata": {},
   "outputs": [],
   "source": [
    "for title, viewed in bbt_s12:\n",
    "    print(title)"
   ]
  },
  {
   "cell_type": "markdown",
   "metadata": {},
   "source": [
    "Afficher les titres (uniquement les titres) des épisodes qu'il me reste à voir."
   ]
  },
  {
   "cell_type": "code",
   "execution_count": null,
   "metadata": {},
   "outputs": [],
   "source": [
    "for title, viewed in bbt_s12:\n",
    "    if not viewed:\n",
    "        print(title)"
   ]
  },
  {
   "cell_type": "markdown",
   "metadata": {},
   "source": [
    "### Dans le vif du sujet\n",
    "\n",
    "Pour commencer, affichez le titre du prochain épisode que je dois regarder."
   ]
  },
  {
   "cell_type": "code",
   "execution_count": null,
   "metadata": {},
   "outputs": [],
   "source": [
    "for title, viewed in bbt_s12:\n",
    "    if not viewed:\n",
    "        print(title)\n",
    "        break"
   ]
  },
  {
   "cell_type": "markdown",
   "metadata": {},
   "source": [
    "Pouvez-vous déterminer quel est l'indice de cet épisode ? (ce devrait être une boucle similaire à la précédente)"
   ]
  },
  {
   "cell_type": "code",
   "execution_count": null,
   "metadata": {},
   "outputs": [],
   "source": [
    "for index, episode in enumerate(bbt_s12):\n",
    "    title, viewed = episode\n",
    "    if not viewed:\n",
    "        print(title, index)\n",
    "        break"
   ]
  },
  {
   "cell_type": "markdown",
   "metadata": {},
   "source": [
    "*Astuce* : l'unpacking peut se faire en une affectation de la manière suivante"
   ]
  },
  {
   "cell_type": "code",
   "execution_count": null,
   "metadata": {},
   "outputs": [],
   "source": [
    "for index, (title, viewed) in enumerate(bbt_s12):\n",
    "    if not viewed:\n",
    "        print(title, index)\n",
    "        break"
   ]
  },
  {
   "cell_type": "markdown",
   "metadata": {},
   "source": [
    "Utilisons cet indice (la variable doit référencer la valeur que vous avez trouvé) pour créer une nouvelle liste *playlist* des épisodes qui me reste à voir grâce au slicing"
   ]
  },
  {
   "cell_type": "code",
   "execution_count": null,
   "metadata": {},
   "outputs": [],
   "source": [
    "playlist = bbt_s12[index:]\n",
    "print(playlist)"
   ]
  },
  {
   "cell_type": "markdown",
   "metadata": {},
   "source": [
    "J'ai à nouveau 2 heures ce soir et je souhaite regarder des épisodes. Nous allons simuler le fonctionnement d'un media-center : chaque épisode vu doit être supprimé de la playlist.\n",
    "\n",
    "Simulez ce comportement en affichant le titre de l'épisode et en le supprimant de la playlist. Répétez ceci pour autant d'épisodes que je peux regarder en 2 heures.\n",
    "\n",
    "Chaque épisode fait 23 minutes."
   ]
  },
  {
   "cell_type": "code",
   "execution_count": null,
   "metadata": {
    "tags": []
   },
   "outputs": [],
   "source": [
    "EPISODE_DURATION = 23\n",
    "\n",
    "for _ in range(120 // EPISODE_DURATION):\n",
    "    print(playlist.pop(0))"
   ]
  },
  {
   "cell_type": "markdown",
   "metadata": {},
   "source": [
    "### Version un peu plus avancée…\n",
    "\n",
    "Reprenez votre code précédent : recréez une playlist des épisodes non vus. Refaite la même itération, affichez les épisodes que je verrai ce soir et supprimez les de la playlist **mais**, en les supprimant, vous devez basculer le flag vu/pas vu à `True` dans la liste `bbt_s12`.\n",
    "\n",
    "*Indice* : rappelez-vous qu'en Python, tout est référence…"
   ]
  },
  {
   "cell_type": "code",
   "execution_count": null,
   "metadata": {},
   "outputs": [],
   "source": [
    "playlist = bbt_s12[index:]\n",
    "\n",
    "for _ in range(120 // EPISODE_DURATION):\n",
    "    current_episode = playlist.pop(0)\n",
    "    current_episode[1] = True\n",
    "    print(current_episode[0])\n",
    "    \n",
    "bbt_s12"
   ]
  },
  {
   "cell_type": "markdown",
   "metadata": {},
   "source": [
    "### Boucles et dictionnaires : Compteur de mots (exercice avancé)\n",
    "\n",
    "Soit la chaine suivante."
   ]
  },
  {
   "cell_type": "code",
   "execution_count": null,
   "metadata": {},
   "outputs": [],
   "source": [
    "SENTENCE = 'Fear is the path to the dark side. Fear leads to anger. Anger leads to hate. Hate leads to suffering.'"
   ]
  },
  {
   "cell_type": "markdown",
   "metadata": {},
   "source": [
    "Nous souhaitons savoir combien de mots commencent par la lettre t (vous pouvez tester avec la méthode `\"mot\".startswith('t')`."
   ]
  },
  {
   "cell_type": "code",
   "execution_count": null,
   "metadata": {
    "tags": []
   },
   "outputs": [],
   "source": [
    "t_count = 0\n",
    "\n",
    "for word in SENTENCE.lower().split():\n",
    "    if word.startswith('t'):\n",
    "        t_count += 1\n",
    "        \n",
    "print(t_count)"
   ]
  },
  {
   "cell_type": "markdown",
   "metadata": {},
   "source": [
    "Nous souhaitons générer un dictionnaire contenant la fréquence de tous les mots de la chaîne."
   ]
  },
  {
   "cell_type": "code",
   "execution_count": null,
   "metadata": {
    "tags": []
   },
   "outputs": [],
   "source": [
    "# Ceci est l'algorythme C classique\n",
    "\n",
    "words_count = dict()\n",
    "\n",
    "for word in SENTENCE.replace('.', '').lower().split():\n",
    "    if word in words_count:\n",
    "        words_count[word] += 1\n",
    "    else:\n",
    "        words_count[word] = 1\n",
    "        \n",
    "print(words_count)"
   ]
  },
  {
   "cell_type": "code",
   "execution_count": null,
   "metadata": {
    "tags": []
   },
   "outputs": [],
   "source": [
    "# Ceci est l'utilisation d'idiome Python\n",
    "\n",
    "words_count = dict()\n",
    "\n",
    "for word in SENTENCE.replace('.', '').lower().split():\n",
    "    words_count[word] = words_count.get(word, 0) + 1\n",
    "        \n",
    "print(words_count)"
   ]
  },
  {
   "cell_type": "markdown",
   "metadata": {},
   "source": [
    "Une fois ce dictionnaire obtenu, itérez sur les éléments (l'ordre n'a pas d'importance) pour afficher le mot et son nompre d'occurences en utilisant la chaine suivante"
   ]
  },
  {
   "cell_type": "code",
   "execution_count": null,
   "metadata": {},
   "outputs": [],
   "source": [
    "WORD_DISPLAY = \"{:15}: {}\""
   ]
  },
  {
   "cell_type": "code",
   "execution_count": null,
   "metadata": {
    "tags": []
   },
   "outputs": [],
   "source": [
    "for word, count in words_count.items():\n",
    "    print(WORD_DISPLAY.format(word, count))"
   ]
  },
  {
   "cell_type": "code",
   "execution_count": null,
   "metadata": {},
   "outputs": [],
   "source": []
  }
 ],
 "metadata": {
  "kernelspec": {
   "display_name": "Python 3",
   "language": "python",
   "name": "python3"
  },
  "language_info": {
   "codemirror_mode": {
    "name": "ipython",
    "version": 3
   },
   "file_extension": ".py",
   "mimetype": "text/x-python",
   "name": "python",
   "nbconvert_exporter": "python",
   "pygments_lexer": "ipython3",
   "version": "3.8.5"
  }
 },
 "nbformat": 4,
 "nbformat_minor": 1
}
