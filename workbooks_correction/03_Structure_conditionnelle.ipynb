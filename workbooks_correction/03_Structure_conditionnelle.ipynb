{
 "cells": [
  {
   "cell_type": "markdown",
   "metadata": {},
   "source": [
    "# Les structures de contrôle : les conditionnelles\n",
    "Les structures de contrôle permettent d'exécuter du code soit\n",
    " - de manière conditionnelle\n",
    " - en boucle\n",
    " \n",
    "Dans ce notebook, nous traiterons de la structure conditionnelle.\n",
    " \n",
    "Celle-ci se fait par la structure `if`.\n",
    "\n",
    "### Exercices\n",
    "La cellule suivante déclare deux durées.\n",
    "\n",
    "Comparez les pour afficher la plus petite"
   ]
  },
  {
   "cell_type": "code",
   "execution_count": null,
   "metadata": {},
   "outputs": [],
   "source": [
    "harry_potter = 152\n",
    "new_hope = 120\n",
    "\n",
    "if harry_potter < new_hope:\n",
    "    print(harry_potter)\n",
    "else:\n",
    "    print(new_hope)"
   ]
  },
  {
   "cell_type": "code",
   "execution_count": null,
   "metadata": {},
   "outputs": [],
   "source": [
    "print(harry_potter if harry_potter < new_hope else new_hope)"
   ]
  },
  {
   "cell_type": "markdown",
   "metadata": {},
   "source": [
    "On souhaite contrôler un chauffage collectif. On fixe **T_MAX = 26** et **T_MIN = 18**. Demandez la température et simulez le comportement suivant :\n",
    "\n",
    "* Si la température est suppérieur à la température max, exigez l'arrêt du chauffage.\n",
    "* Si la température est inférieur à la température limite, demandez d'augmenter le chauffage.\n",
    "* Sinon, dites que tout va bien.\n",
    "\n",
    "\n",
    "Écrivez la structure simulant ce comportement."
   ]
  },
  {
   "cell_type": "code",
   "execution_count": null,
   "metadata": {},
   "outputs": [],
   "source": [
    "T_MAX = 26\n",
    "T_MIN = 18\n",
    "\n",
    "temp = int(input('Quelle est la température ? ')) # Input permet de demander une saisie à l'utilisateur\n",
    "\n",
    "if temp > T_MAX:\n",
    "    print('Stop !')\n",
    "elif temp < T_MIN:\n",
    "    print('Froid, chauffons')\n",
    "else:\n",
    "    print('Ok')"
   ]
  },
  {
   "cell_type": "markdown",
   "metadata": {},
   "source": [
    "Écrivez dans la cellule suivante le code qui permet d'afficher `il fait bon` si la température est comprise entre **T_MIN** et **T_MAX**"
   ]
  },
  {
   "cell_type": "code",
   "execution_count": null,
   "metadata": {},
   "outputs": [],
   "source": [
    "if T_MIN < temp < T_MAX:\n",
    "    print('Il fait bon')"
   ]
  },
  {
   "cell_type": "markdown",
   "metadata": {},
   "source": [
    "## Retour à notre fonction\n",
    "\n",
    "Dans le calepin précédent, vous avez défini une fonction `to_minutes` que nous allons rendre *plus intelligente*. Elle ne devra faire les calculs que pour les durées positives ou nulles.\n",
    "\n",
    "Recopiez votre fonction précédente dans la cellule suivante et ajoutez le code pour qu'elle ne retourne un résultat que si les données en entrée sont positives ou nulles."
   ]
  },
  {
   "cell_type": "code",
   "execution_count": null,
   "metadata": {},
   "outputs": [],
   "source": [
    "def to_minutes(hours: int, minutes=0):\n",
    "    hours = int(hours)\n",
    "    minutes = int(minutes)\n",
    "    \n",
    "    if hours >=0 and minutes >= 0:\n",
    "        return hours * 60 + minutes"
   ]
  },
  {
   "cell_type": "markdown",
   "metadata": {},
   "source": [
    "Observez ce qui est retourné avec des données positives ou nulles et des données négatives."
   ]
  },
  {
   "cell_type": "code",
   "execution_count": null,
   "metadata": {},
   "outputs": [],
   "source": []
  },
  {
   "cell_type": "markdown",
   "metadata": {},
   "source": [
    "Je dois utililser cette fonction dans le code suivant. Nous expliqueront les instructions liées à l'affichage plus loin. Le résultat est il acceptable ?"
   ]
  },
  {
   "cell_type": "code",
   "execution_count": null,
   "metadata": {},
   "outputs": [],
   "source": [
    "training_duration = -5\n",
    "\n",
    "print(f\"La formation a une durée de {to_minutes(training_duration)} minutes\")"
   ]
  }
 ],
 "metadata": {
  "kernelspec": {
   "display_name": "Python 3",
   "language": "python",
   "name": "python3"
  },
  "language_info": {
   "codemirror_mode": {
    "name": "ipython",
    "version": 3
   },
   "file_extension": ".py",
   "mimetype": "text/x-python",
   "name": "python",
   "nbconvert_exporter": "python",
   "pygments_lexer": "ipython3",
   "version": "3.8.0"
  }
 },
 "nbformat": 4,
 "nbformat_minor": 1
}
