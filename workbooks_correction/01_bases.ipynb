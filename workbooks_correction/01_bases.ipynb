{
 "cells": [
  {
   "cell_type": "markdown",
   "metadata": {},
   "source": [
    "# Découverte du langage\n",
    "## Manipuer des données, les variables\n",
    "La programmation a pour but de manipuler des données. La manipulation de données la plus *simple* est le calcul. Les calculs sont réalisés par les opérateurs mathématiques standards.\n",
    "\n",
    "La cellule suivante contient une instruction qui additionne deux valeurs. Vous pouvez exécuter cette cellule et voir un affichage.\n",
    "\n",
    "Les Notebooks ont un comportement particulier, ils *affichent* le **retour** de la dernière instruction d'une cellule.\n",
    "Il estiste une instruction d'affichage, la fonction `print()`. Éxécutez la ligne suivante.\n",
    "\n",
    "Dans les Jupyter Notebooks, des variables déclarées dans une cellule (qui a été exécutée) sont disponibles pour les autres cellules du Notebook. Nous allons voir ceci avec le premier exercice.\n",
    "\n",
    "### Exercices\n",
    "Affectez les valeurs **6.892** et **19.7** aux variables `time` (secondes) et `distance` (mètres) dans la cellule ci-dessous et exécutez-la."
   ]
  },
  {
   "cell_type": "code",
   "execution_count": 1,
   "metadata": {},
   "outputs": [],
   "source": [
    "time = 6.892\n",
    "distance = 19.7"
   ]
  },
  {
   "cell_type": "markdown",
   "metadata": {},
   "source": [
    "Calculez et affichez la valeur de la vitesse (qui sera donc en m/s) à l'aide des deux variables précédentes dans la cellule suivante."
   ]
  },
  {
   "cell_type": "code",
   "execution_count": 2,
   "metadata": {},
   "outputs": [
    {
     "name": "stdout",
     "output_type": "stream",
     "text": [
      "2.8583865351131745\n"
     ]
    }
   ],
   "source": [
    "speed = distance/time\n",
    "print(speed)"
   ]
  },
  {
   "cell_type": "markdown",
   "metadata": {},
   "source": [
    "Dans la cellule suivante, la variable `training_duration` représente la durée de la formation en heures. Vous ne devez pas modifier cette ligne.\n",
    "\n",
    "Calculez la durée de la formation en minutes. **Attention au type…**"
   ]
  },
  {
   "cell_type": "code",
   "execution_count": 8,
   "metadata": {},
   "outputs": [
    {
     "name": "stdout",
     "output_type": "stream",
     "text": [
      "1800\n"
     ]
    }
   ],
   "source": [
    "training_duration = \"30\"\n",
    "\n",
    "training_duration = int(training_duration)\n",
    "print(training_duration * 60)"
   ]
  },
  {
   "cell_type": "code",
   "execution_count": 2,
   "metadata": {},
   "outputs": [],
   "source": [
    "def to_minutes(hours, minutes=0):\n",
    "    hours = int(hours)\n",
    "    minutes = int(minutes)\n",
    "    \n",
    "    if hours < 0:\n",
    "        raise ValueError(\"Hours should be positive\")\n",
    "    if minutes < 0:\n",
    "        raise ValueError(\"Minutes should be positive\")\n",
    "        \n",
    "    return hours * 60 + minutes"
   ]
  },
  {
   "cell_type": "code",
   "execution_count": null,
   "metadata": {},
   "outputs": [],
   "source": []
  }
 ],
 "metadata": {
  "kernelspec": {
   "display_name": "Python 3",
   "language": "python",
   "name": "python3"
  },
  "language_info": {
   "codemirror_mode": {
    "name": "ipython",
    "version": 3
   },
   "file_extension": ".py",
   "mimetype": "text/x-python",
   "name": "python",
   "nbconvert_exporter": "python",
   "pygments_lexer": "ipython3",
   "version": "3.8.0"
  }
 },
 "nbformat": 4,
 "nbformat_minor": 1
}
