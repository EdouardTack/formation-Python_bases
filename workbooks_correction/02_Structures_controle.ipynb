{
 "cells": [
  {
   "cell_type": "markdown",
   "metadata": {},
   "source": [
    "# Les structures de contrôle\n",
    "Les structures de contrôle permettent d'exécuter du code soit\n",
    " - de manière conditionnelle\n",
    " - en boucle\n",
    " \n",
    "L'exécution de code de manière conditionnelle se fait par la structure `if`.\n",
    "Les structures `for` permettent d'itérer sur des collections. Les structures `while` exécutent du code tant qu'une condition est vrai.\n",
    "\n",
    "### Exercices sur les sructures conditionnelles\n",
    "La cellulre suivante déclare deux nombres.\n",
    "* Comparez les pour afficher le plus petit\n",
    "* Refaire l’exercice avec l’instruction ternaire"
   ]
  },
  {
   "cell_type": "code",
   "execution_count": 1,
   "metadata": {},
   "outputs": [
    {
     "name": "stdout",
     "output_type": "stream",
     "text": [
      "6\n"
     ]
    }
   ],
   "source": [
    "a = 6\n",
    "b = 9\n",
    "\n",
    "if a < b:\n",
    "    print(a)\n",
    "else:\n",
    "    print(b)"
   ]
  },
  {
   "cell_type": "code",
   "execution_count": 2,
   "metadata": {},
   "outputs": [
    {
     "name": "stdout",
     "output_type": "stream",
     "text": [
      "6\n"
     ]
    }
   ],
   "source": [
    "print(a if a < b else b)"
   ]
  },
  {
   "cell_type": "markdown",
   "metadata": {},
   "source": [
    "On souhaite contrôler un chauffage collectif. On fixe **T_MAX = 26** et **T_MIN = 18**. Demandez la température et simulez le comportement suivant :\n",
    "\n",
    "* Si la température est suppérieur à la température max, exigez l'arrêt du chauffage.\n",
    "* Si la température est inférieur à la température limite, demandez d'augmenter le chauffage.\n",
    "* Sinon, dites que tout va bien.\n",
    "\n",
    "\n",
    "Écrivez la structure simulant ce comportement."
   ]
  },
  {
   "cell_type": "code",
   "execution_count": 1,
   "metadata": {
    "collapsed": true
   },
   "outputs": [],
   "source": [
    "T_MAX = 26\n",
    "T_MIN = 18\n",
    "\n",
    "temp = int(input(\"Quelle température ?\"))\n",
    "if temp > T_MAX:\n",
    "    print(\"Faut chaud, stop\")\n",
    "elif temp < T_MIN:\n",
    "    print(\"Brr, froid, augmentons\")\n",
    "else:\n",
    "    print(\"Ok, cool\")"
   ]
  },
  {
   "cell_type": "markdown",
   "metadata": {},
   "source": [
    "### Exercices sur les Boucles\n",
    "Affichez les entiers de 0 à 15 de 3 en 3 en utilisant la boucle for et la fonction range()"
   ]
  },
  {
   "cell_type": "code",
   "execution_count": 3,
   "metadata": {},
   "outputs": [
    {
     "name": "stdout",
     "output_type": "stream",
     "text": [
      "0\n",
      "3\n",
      "6\n",
      "9\n",
      "12\n"
     ]
    }
   ],
   "source": [
    "for i in range(0, 15, 3):\n",
    "    print(i)"
   ]
  },
  {
   "cell_type": "markdown",
   "metadata": {},
   "source": [
    "Affichez chaque caractère d’une chaine en utilisant la boucle for"
   ]
  },
  {
   "cell_type": "code",
   "execution_count": 4,
   "metadata": {},
   "outputs": [
    {
     "name": "stdout",
     "output_type": "stream",
     "text": [
      "h\n",
      "o\n",
      "l\n",
      "l\n",
      "y\n",
      " \n",
      "g\n",
      "r\n",
      "a\n",
      "i\n",
      "l\n"
     ]
    }
   ],
   "source": [
    "for char in \"holly grail\":\n",
    "    print(char)"
   ]
  },
  {
   "cell_type": "markdown",
   "metadata": {},
   "source": [
    "Affichez chaque élément d’une liste en utilisant la boucle for"
   ]
  },
  {
   "cell_type": "code",
   "execution_count": 5,
   "metadata": {},
   "outputs": [
    {
     "name": "stdout",
     "output_type": "stream",
     "text": [
      "Arthur\n",
      "Lancelot\n",
      "Merlin\n"
     ]
    }
   ],
   "source": [
    "for element in [\"Arthur\", \"Lancelot\", \"Merlin\"]:\n",
    "    print(element)"
   ]
  },
  {
   "cell_type": "markdown",
   "metadata": {},
   "source": [
    "### Boucles et dictionnaires : Compteur de mots\n",
    "\n",
    "Nous souhaitons générer un dictionnaire contenant la fréquence de tous les mots de la chaîne suivante."
   ]
  },
  {
   "cell_type": "code",
   "execution_count": 6,
   "metadata": {},
   "outputs": [],
   "source": [
    "SENTENCE = 'Fear is the path to the dark side. Fear leads to anger. Anger leads to hate. Hate leads to suffering.'"
   ]
  },
  {
   "cell_type": "code",
   "execution_count": 7,
   "metadata": {},
   "outputs": [
    {
     "name": "stdout",
     "output_type": "stream",
     "text": [
      "{'fear': 2, 'is': 1, 'the': 2, 'path': 1, 'to': 4, 'dark': 1, 'side': 1, 'leads': 3, 'anger': 2, 'hate': 2, 'suffering': 1}\n"
     ]
    }
   ],
   "source": [
    "occurences = {}\n",
    "\n",
    "for word in SENTENCE.lower().replace('.', '').split():\n",
    "    if word not in occurences:\n",
    "        occurences[word] = 1\n",
    "    else:\n",
    "        occurences[word] += 1\n",
    "        \n",
    "print(occurences)"
   ]
  },
  {
   "cell_type": "code",
   "execution_count": 8,
   "metadata": {},
   "outputs": [
    {
     "name": "stdout",
     "output_type": "stream",
     "text": [
      "{'fear': 2, 'is': 1, 'the': 2, 'path': 1, 'to': 4, 'dark': 1, 'side': 1, 'leads': 3, 'anger': 2, 'hate': 2, 'suffering': 1}\n"
     ]
    }
   ],
   "source": [
    "occurences = {}\n",
    "\n",
    "for word in SENTENCE.lower().replace('.', '').split():\n",
    "    if word not in occurences:\n",
    "        occurences[word] = 0\n",
    "\n",
    "    occurences[word] += 1\n",
    "        \n",
    "print(occurences)"
   ]
  },
  {
   "cell_type": "code",
   "execution_count": 9,
   "metadata": {},
   "outputs": [
    {
     "name": "stdout",
     "output_type": "stream",
     "text": [
      "{'fear': 2, 'is': 1, 'the': 2, 'path': 1, 'to': 4, 'dark': 1, 'side': 1, 'leads': 3, 'anger': 2, 'hate': 2, 'suffering': 1}\n"
     ]
    }
   ],
   "source": [
    "occurences = {}\n",
    "\n",
    "for word in SENTENCE.lower().replace('.', '').split():\n",
    "    occurences[word] = occurences.get(word, 0) + 1\n",
    "        \n",
    "print(occurences)"
   ]
  },
  {
   "cell_type": "markdown",
   "metadata": {},
   "source": [
    "Si vous êtes en avance, vous pouvez passer aux [exercices avancés](http://localhost:8888/notebooks/02bis_Structures_controle.ipynb).\n",
    "\n",
    "Après il sera temps de passez aux [fonctions](http://localhost:8888/notebooks/03_Fonctions.ipynb)"
   ]
  }
 ],
 "metadata": {
  "kernelspec": {
   "display_name": "Python 3",
   "language": "python",
   "name": "python3"
  },
  "language_info": {
   "codemirror_mode": {
    "name": "ipython",
    "version": 3
   },
   "file_extension": ".py",
   "mimetype": "text/x-python",
   "name": "python",
   "nbconvert_exporter": "python",
   "pygments_lexer": "ipython3",
   "version": "3.6.0"
  }
 },
 "nbformat": 4,
 "nbformat_minor": 1
}
