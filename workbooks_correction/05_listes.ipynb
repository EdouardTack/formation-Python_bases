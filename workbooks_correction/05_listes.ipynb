{
 "cells": [
  {
   "cell_type": "markdown",
   "metadata": {},
   "source": [
    "## Les collections\n",
    "Les collections sont des types de données qui contiennent plusieurs données. Nous avons vu :\n",
    " * les chaines de caractères (`str`)\n",
    " * les listes (`list`)\n",
    " * les tuples (`tuple`)\n",
    " * les dictionnaires (`dict`)\n",
    " \n",
    "Listes et chaines de caractères sont des **séquences**. Les éléments sont ordonnés et peuvent être redondants. Vous pouvez accéder à un élément de la collection par son indice avec la sémantique suivante :\n",
    "```python\n",
    "knights = [\"Arthur\", \"Lancelot\", \"Galahad\", \"Robin\", \"Karadoc\"]\n",
    "knights[2] # retourne l'élément à l'indice 2\n",
    "```\n",
    "Vous pouvez tester cette instrucion dans la cellule suivante."
   ]
  },
  {
   "cell_type": "code",
   "execution_count": null,
   "metadata": {},
   "outputs": [],
   "source": [
    "knights = [\"Arthur\", \"Lancelot\", \"Galahad\", \"Robin\", \"Karadoc\"]\n",
    "print(knights[2])"
   ]
  },
  {
   "cell_type": "markdown",
   "metadata": {},
   "source": [
    "Vous pouvez également extraire une partie de la liste en sous-liste grâce au *slicing* :\n",
    "```python\n",
    "knights[2:4] # retourne une liste de 2 éléments\n",
    "knights[:2] # retourne la liste des deux premiers éléments\n",
    "```"
   ]
  },
  {
   "cell_type": "code",
   "execution_count": null,
   "metadata": {},
   "outputs": [],
   "source": [
    "print(knights[2:4])\n",
    "print(knights[:2])"
   ]
  },
  {
   "cell_type": "markdown",
   "metadata": {},
   "source": [
    "Vous pouvez avoir la taille de la collection avec la fonction\n",
    "```python\n",
    "len(knights)\n",
    "```\n",
    "En python, **tout est objet**. Un objet est une entité caractérisée par :\n",
    " - un état (des données)\n",
    " - des comportements (des fonctions associées appelées méthodes)\n",
    " \n",
    "Contrairement aux types numériques, les collections utilisent et se manipulent à l'aide de méthodes. Leur *état* correspond aux données contenues.\n",
    "Ainsi, si nous avons une liste, trier la liste est réalisé par une méthode :\n",
    "```python\n",
    "knights.sort() # tri la liste\n",
    "```\n",
    "Vous pouvez consulter les autres méthodes disponibles pour le type liste par les fonctions `dir(list)` et `help(list)`."
   ]
  },
  {
   "cell_type": "markdown",
   "metadata": {},
   "source": [
    "### Exercices - listes\n",
    "Pour l'exercice suivant, il y a plusieurs manipulations sur la liste définie ci-dessous. Pour une question de lisibilité, chaque question est à traiter dans sa cellule. **Attention**, l'enchainement des instructions transformera la liste, leur séquence est donc importante. Aussi, je vous conseille à chaque fois d'exécute **toutes** les cellules.\n",
    "\n",
    "Ainsi, soit la liste suivante."
   ]
  },
  {
   "cell_type": "code",
   "execution_count": null,
   "metadata": {},
   "outputs": [],
   "source": [
    "ma_liste = [17, 38, 10, 25, 72]"
   ]
  },
  {
   "cell_type": "markdown",
   "metadata": {},
   "source": [
    "Triez et affichez la liste"
   ]
  },
  {
   "cell_type": "code",
   "execution_count": null,
   "metadata": {},
   "outputs": [],
   "source": [
    "ma_liste.sort()\n",
    "print(ma_liste)"
   ]
  },
  {
   "cell_type": "markdown",
   "metadata": {},
   "source": [
    "Ajoutez l’élément 12 à la liste et affichez la."
   ]
  },
  {
   "cell_type": "code",
   "execution_count": null,
   "metadata": {},
   "outputs": [],
   "source": [
    "ma_liste.append(12)\n",
    "print(ma_liste)"
   ]
  },
  {
   "cell_type": "markdown",
   "metadata": {},
   "source": [
    "Renversez et affichez la liste"
   ]
  },
  {
   "cell_type": "code",
   "execution_count": null,
   "metadata": {},
   "outputs": [],
   "source": [
    "ma_liste.reverse()\n",
    "print(ma_liste)"
   ]
  },
  {
   "cell_type": "markdown",
   "metadata": {},
   "source": [
    "Affichez l’indice de l’élément 17"
   ]
  },
  {
   "cell_type": "code",
   "execution_count": null,
   "metadata": {},
   "outputs": [],
   "source": [
    "print(ma_liste.index(17))"
   ]
  },
  {
   "cell_type": "markdown",
   "metadata": {},
   "source": [
    "Enlevez l’élément 38 et affichez la liste"
   ]
  },
  {
   "cell_type": "code",
   "execution_count": null,
   "metadata": {},
   "outputs": [],
   "source": [
    "ma_liste.remove(38)\n",
    "print(ma_liste)"
   ]
  },
  {
   "cell_type": "markdown",
   "metadata": {},
   "source": [
    "Affichez la sous-liste du 2ème au 3ème élément"
   ]
  },
  {
   "cell_type": "code",
   "execution_count": null,
   "metadata": {},
   "outputs": [],
   "source": [
    "print(ma_liste[2:4])"
   ]
  },
  {
   "cell_type": "markdown",
   "metadata": {},
   "source": [
    "Affichez la sous-liste des 2 premiers éléments"
   ]
  },
  {
   "cell_type": "code",
   "execution_count": null,
   "metadata": {},
   "outputs": [],
   "source": [
    "print(ma_liste[:2])"
   ]
  },
  {
   "cell_type": "markdown",
   "metadata": {},
   "source": [
    "Affichez la sous-liste du 3ème à la fin de la liste"
   ]
  },
  {
   "cell_type": "code",
   "execution_count": null,
   "metadata": {},
   "outputs": [],
   "source": [
    "print(ma_liste[3:])"
   ]
  },
  {
   "cell_type": "markdown",
   "metadata": {},
   "source": [
    "Affichez le dernier élément"
   ]
  },
  {
   "cell_type": "code",
   "execution_count": null,
   "metadata": {},
   "outputs": [],
   "source": [
    "print(ma_liste[-1])"
   ]
  },
  {
   "cell_type": "markdown",
   "metadata": {},
   "source": [
    "Créez une copie de votre liste dans une nouvelle variable"
   ]
  },
  {
   "cell_type": "code",
   "execution_count": null,
   "metadata": {},
   "outputs": [],
   "source": [
    "mon_autre_liste = ma_liste.copy()\n",
    "mon_autre_liste = list(ma_liste)\n",
    "mon_autre_liste = ma_liste[:]"
   ]
  },
  {
   "cell_type": "markdown",
   "metadata": {},
   "source": [
    "Ajoutez à votre nouvelle liste l’élément 42, que remarquez-vous ?"
   ]
  },
  {
   "cell_type": "code",
   "execution_count": null,
   "metadata": {},
   "outputs": [],
   "source": [
    "mon_autre_liste.append(42)\n",
    "print(ma_liste)\n",
    "print(mon_autre_liste)"
   ]
  },
  {
   "cell_type": "code",
   "execution_count": null,
   "metadata": {},
   "outputs": [],
   "source": [
    "good_omens = [\"In The Beginning\",\n",
    "              \"The Book\",\n",
    "              \"Hard Times\",\n",
    "              \"Saturday Morning Funtime\",\n",
    "              \"The Doomsday Option\",\n",
    "              \"The Very Last Day Of The Rest Of Their Lives\"]"
   ]
  },
  {
   "cell_type": "markdown",
   "metadata": {},
   "source": [
    "Sachant que chaque épisode dure 54 minutes, quelle est la durée de cette série ?"
   ]
  },
  {
   "cell_type": "code",
   "execution_count": null,
   "metadata": {},
   "outputs": [],
   "source": [
    "import helpers as h\n",
    "\n",
    "EPISODE_DURATION = 54\n",
    "\n",
    "duration = h.duration_for(len(good_omens), EPISODE_DURATION)"
   ]
  },
  {
   "cell_type": "markdown",
   "metadata": {},
   "source": [
    "Faites une liste des trois premiers épisodes"
   ]
  },
  {
   "cell_type": "code",
   "execution_count": null,
   "metadata": {},
   "outputs": [],
   "source": [
    "good_omens[:3]"
   ]
  },
  {
   "cell_type": "markdown",
   "metadata": {},
   "source": [
    "Quel est le titre du dernier épisode ?"
   ]
  },
  {
   "cell_type": "code",
   "execution_count": null,
   "metadata": {},
   "outputs": [],
   "source": [
    "good_omens[-1]"
   ]
  },
  {
   "cell_type": "markdown",
   "metadata": {},
   "source": [
    "Soit la saison 12 de Big Bang Theory."
   ]
  },
  {
   "cell_type": "code",
   "execution_count": null,
   "metadata": {},
   "outputs": [],
   "source": [
    "bbt_s12 = [\"The Conjugal Configuration\",\n",
    "           \"The Wedding Gift Wormhole\",\n",
    "           \"The Procreation Calculation\",\n",
    "           \"The Tam Turbulence\",\n",
    "           \"The Planetarium Collision\",\n",
    "           \"The Imitation Perturbation\",\n",
    "           \"The Grant Allocation Derivation\",\n",
    "           \"The Consummation Deviation\",\n",
    "           \"The Citation Negation\",\n",
    "           \"The VCR Illumination\",\n",
    "           \"The Paintball Scattering\",\n",
    "           \"The Propagation Proposition\",\n",
    "           \"The Confirmation Polarization\",\n",
    "           \"The Meteorite Manifestation\",\n",
    "           \"The Donation Oscillation\",\n",
    "           \"The D & D Vortex\",\n",
    "           \"The Conference Valuation\",\n",
    "           \"The Laureate Accumulation\",\n",
    "           \"The Inspiration Deprivation\",\n",
    "           \"The Decision Reverberation\",\n",
    "           \"The Plagiarism Schism\",\n",
    "           \"The Maternal Conclusion\",\n",
    "           \"The Change Constant\",\n",
    "           \"The Stockholm Syndrome\"]"
   ]
  },
  {
   "cell_type": "markdown",
   "metadata": {},
   "source": [
    "Nous considérons que chaque épisode dure 24 minutes, combien de temps (en minutes ou en heures/minutes) dure la saison ?"
   ]
  },
  {
   "cell_type": "code",
   "execution_count": null,
   "metadata": {},
   "outputs": [],
   "source": [
    "duration = h.duration_for(len(bbt_s12), 24)\n",
    "print(duration)\n",
    "print(\"{:2}h{:02}\".format(*divmod(duration, 60)))"
   ]
  },
  {
   "cell_type": "markdown",
   "metadata": {},
   "source": [
    "Il faudra aller au lit dans 2 heures maximum. Déterminez le nombre d'épisodes qu'il sera possible de visionner à la suite en entier. Créez une liste extraite du début de `bbt_s12` de ces épisodes."
   ]
  },
  {
   "cell_type": "code",
   "execution_count": null,
   "metadata": {},
   "outputs": [],
   "source": [
    "to_watch = bbt_s12[:120 // 24]"
   ]
  },
  {
   "cell_type": "markdown",
   "metadata": {},
   "source": [
    "Quel est le titre du dernier épisode de cette liste extraite ?"
   ]
  },
  {
   "cell_type": "code",
   "execution_count": null,
   "metadata": {},
   "outputs": [],
   "source": [
    "print(to_watch[-1])"
   ]
  }
 ],
 "metadata": {
  "kernelspec": {
   "display_name": "Python 3",
   "language": "python",
   "name": "python3"
  },
  "language_info": {
   "codemirror_mode": {
    "name": "ipython",
    "version": 3
   },
   "file_extension": ".py",
   "mimetype": "text/x-python",
   "name": "python",
   "nbconvert_exporter": "python",
   "pygments_lexer": "ipython3",
   "version": "3.7.0"
  }
 },
 "nbformat": 4,
 "nbformat_minor": 2
}
