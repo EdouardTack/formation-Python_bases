{
 "cells": [
  {
   "cell_type": "markdown",
   "metadata": {},
   "source": [
    "# Généralisation d'une fonction\n",
    "Dans le notebook précédent, nous avons écrit une fonction qui permet de calculer la durée d'une formation en minutes à partir de sa durée en heures.\n",
    "\n",
    "Mais cette *conversion* n'est pas propre aux formations. Le nom n'est ainsi pas très bien choisi.\n",
    "\n",
    "Recopiez votre fonction dans la cellule suivante en la nommant `to_minutes`. Cette fonction ne prends qu'un paramètre qui est les heures."
   ]
  },
  {
   "cell_type": "code",
   "execution_count": 1,
   "metadata": {},
   "outputs": [],
   "source": [
    "def to_minutes(hours):\n",
    "    return int(hours) * 60"
   ]
  },
  {
   "cell_type": "markdown",
   "metadata": {},
   "source": [
    "Écrite ainsi, nous pourrions utiliser cette fonction pour une durée en heures et minutes. Dans la cellule suivante, réécrivez cette fonction pour qu'elle prenne un second paramètre `minutes`. Testez-la dans la cellule suivante."
   ]
  },
  {
   "cell_type": "code",
   "execution_count": null,
   "metadata": {},
   "outputs": [],
   "source": [
    "def to_minutes(hours, minutes):\n",
    "    return int(hours) * 60 + int(minutes)"
   ]
  },
  {
   "cell_type": "code",
   "execution_count": null,
   "metadata": {},
   "outputs": [],
   "source": []
  },
  {
   "cell_type": "markdown",
   "metadata": {},
   "source": [
    "Mais cette fonction nous oblige à passer un paramètre `minutes`. Rendez ce paramètre optionnel."
   ]
  },
  {
   "cell_type": "code",
   "execution_count": null,
   "metadata": {},
   "outputs": [],
   "source": [
    "def to_minutes(hours, minutes=0):\n",
    "    return int(hours) * 60 + int(minutes)"
   ]
  },
  {
   "cell_type": "code",
   "execution_count": null,
   "metadata": {},
   "outputs": [],
   "source": []
  },
  {
   "cell_type": "markdown",
   "metadata": {},
   "source": [
    "## Informer sur le type attendu\n",
    "Avec la fonction précédente, un paramètre `hours` peut-être ambigu : qu'est-ce que l'on attends comme type de donnée ? Nous pouvons nous reposer sur l'aide. Pour cela, dans le code suivant, il sera supposé que la fonction créée d'appelle `to_minutes(hours, minutes=0)`.\n",
    "\n",
    "L'accès à la documentation peut vous aider. Vous pouvez voir ce que vous propose la fonction `help()` en lui passant en paramètre la fonction.\n",
    "\n",
    "```python\n",
    "help(training_duration)\n",
    "```\n",
    "\n",
    "Dans l'état actuel, il n'y a pas plus d'information. Mais nous pouvons y remédier. Les Type Hints ([PEP 484](https://www.python.org/dev/peps/pep-0484/)) sont un ajout dans Python 3.5. Ils consistent à ajouter le type attendu après le paramètre :\n",
    "\n",
    "```python\n",
    "def to_minutes(hours: int, minutes=0):\n",
    "    pass  # cette instruction ne fait rien.\n",
    "```\n",
    "\n",
    "Vous pouvez maintenant voir l'information que vous allez avoir avec la fonction `help()`. Ils permettent ainsi d'informer sur le type attendu d'un paramètre."
   ]
  },
  {
   "cell_type": "code",
   "execution_count": null,
   "metadata": {},
   "outputs": [],
   "source": []
  }
 ],
 "metadata": {
  "kernelspec": {
   "display_name": "Python 3",
   "language": "python",
   "name": "python3"
  },
  "language_info": {
   "codemirror_mode": {
    "name": "ipython",
    "version": 3
   },
   "file_extension": ".py",
   "mimetype": "text/x-python",
   "name": "python",
   "nbconvert_exporter": "python",
   "pygments_lexer": "ipython3",
   "version": "3.8.0"
  }
 },
 "nbformat": 4,
 "nbformat_minor": 4
}