{
 "cells": [
  {
   "cell_type": "markdown",
   "metadata": {},
   "source": [
    "# Les interractions\n",
    "\n",
    "## Apport de données\n",
    "L'intérêt d'un programme est d'utiliser différentes données pour effectuer un même traitement. Il faudra donc fournir des données *variable*. Il est possible de fournir des données pendant l'exécution du programme par la focntion `input()`. La fonction `input` retourne une donnée de type chaine de caractères. Pensez donc à la transtyper au besoin.\n",
    "```python\n",
    "name = input('Quel est votre langage favori ? ')\n",
    "print(name)\n",
    "year = int(input('Quand a-t-il été créé ? ')\n",
    "print(year)\n",
    "```\n",
    "\n",
    "Cette fonction permet donc de créer une interface dans un terminal (invite de commandes). Nous ne nous attarderons pas sur l'utilisation de cette fonction. Pour exécuter un programme avec différentes valeurs dans le cadre de Jupyter, il est plus simple de dédier une cellule à la déclaration des variables et modifier les valeurs avant chaque exécution."
   ]
  },
  {
   "cell_type": "code",
   "execution_count": null,
   "metadata": {},
   "outputs": [],
   "source": [
    "name = \"Python\"\n",
    "year = 1989"
   ]
  },
  {
   "cell_type": "markdown",
   "metadata": {},
   "source": [
    "## Mise en forme de chaines de caractères\n",
    "Jusqu'ici, nous n'avons affiché que la donnée générée mais il est souvent plus adapté de la mettre en forme dans une chaine de caractères. L'outil le plus efficace est la méthode `format()` des chaines de caractères :\n",
    "```python\n",
    "pref_string = \"Mon langage favori est {}\"\n",
    "print(pref_string.format(name))\n",
    "```\n",
    "Les accolades permettent de mettre en forme les données à afficher. Le microlangage étant assez complexe, je vous invite à consulter [la documentation](https://docs.python.org/3.6/library/string.html#format-string-syntax) pour les fonctionnalités exhaustives.\n",
    "\n",
    "On retiendra les plus courantes :\n",
    " * `{1}` permet d'afficher le second élément de la liste des données.\n",
    " * `{:.2f}` permet d'afficher la donnée sous forme de réel avec deux chiffres après la virgule\n",
    " * `{:10}` réserve 10 espaces pour afficher la donnée\n",
    " * `{:10.2f}` réserve 10 espaces pour afficher un réel avec deux chiffres après la virgule\n",
    " * `{1:10.2f}` réserve 10 espaces pour afficher sous forme de réel avec deux chiffres après la virgule le second élément de la liste des données\n",
    "### Exercices\n",
    "Reprenons l'exercice sur la vitesse calculée précédemment et améliorons l'affichage en imposant deux chiffres après le point décimal."
   ]
  },
  {
   "cell_type": "code",
   "execution_count": null,
   "metadata": {},
   "outputs": [],
   "source": [
    "temps = 6.892\n",
    "distance = 19.7"
   ]
  },
  {
   "cell_type": "markdown",
   "metadata": {},
   "source": [
    "## Opérations sur les données\n",
    "Nous allons maintenant combiner traitement de données et affichage.\n",
    "### Exercices\n",
    "Il me reste 3 épisodes de 53 minutes de Jessica Jones à regarder.\n",
    " * Combien de temps (en heures et minutes) cela représente-t-il ?\n",
    " * Sachant qu'il est 20h42, quelle sera l'heure de fin si je les regarde à la suite ?\n",
    "Affichez ces deux résultats à l'aide des templates suivants."
   ]
  },
  {
   "cell_type": "code",
   "execution_count": null,
   "metadata": {},
   "outputs": [],
   "source": [
    "TIME_REMAINING = 'Il reste {}h{} à visionner.'\n",
    "END_HOURE = 'Vous aurez fini de regarder vos émission à {}h{}'\n"
   ]
  },
  {
   "cell_type": "code",
   "execution_count": null,
   "metadata": {},
   "outputs": [],
   "source": []
  }
 ],
 "metadata": {
  "kernelspec": {
   "display_name": "Python 3",
   "language": "python",
   "name": "python3"
  },
  "language_info": {
   "codemirror_mode": {
    "name": "ipython",
    "version": 3
   },
   "file_extension": ".py",
   "mimetype": "text/x-python",
   "name": "python",
   "nbconvert_exporter": "python",
   "pygments_lexer": "ipython3",
   "version": "3.7.0"
  }
 },
 "nbformat": 4,
 "nbformat_minor": 1
}
