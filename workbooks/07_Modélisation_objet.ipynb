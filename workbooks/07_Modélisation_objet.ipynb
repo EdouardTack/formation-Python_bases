{
 "cells": [
  {
   "cell_type": "markdown",
   "metadata": {},
   "source": [
    "# Les concepts objet\n",
    "Ce notebook a pour but de vous proposer un *cahier de travail* pour suivre la conception objet.\n",
    "\n",
    "Dans le notebook précédent, nous avons utilisé une nouvelle classe, `Playlist`. Cependant, la notion d'épisode est plus complexe qu'un simple titre. Il a d'autres propriétés : un numéro d'épisode, de saison et une durée en minutes.\n",
    "\n",
    "Le module `object_media` nécessite une classe `Episode` pour manipuler le type Episode.\n",
    "\n",
    "## Les relations\n",
    "Nous pouvons faire évoluer notre modèle afin qu'au lieu de gérer une liste de titres, ce soit une liste d'Episodes.\n",
    "\n",
    "<img src=\"assets/playlist_episode_relation.png\" alt=\"Modèle UML d'une relation\" title=\"Relation UML\" />\n",
    "\n",
    "Vous remarquez que l'attribut `_stack` n'est plus représentée dans ce diagramme. La nécessité d'une collection est représentée par la relation entre `Playlist` et `Episode`.\n",
    "\n",
    "- Ajoutez la classe `Episode` tel que décrite ici. Le constructeur doit avoir la signature `Episode(title, episode_number, season_number, duration)`.\n",
    "- Ajoutez la méthode `__str__` à la classe `Episode` pour pouvoir identifier l'objet manipulé.\n",
    "- La classe `Playlist` ne nécessite pas d'évolution pour ajouter et consulter un épisode.\n",
    "\n",
    "Une fois vos modifications apportées, le code suivant doit pouvoir s'exécuter sans erreurs."
   ]
  },
  {
   "cell_type": "code",
   "execution_count": null,
   "metadata": {},
   "outputs": [],
   "source": [
    "from utility.demo import object_media\n",
    "\n",
    "my_playlist = object_media.Playlist(\"Dr. Who\")\n",
    "my_playlist.add(object_media.Episode(\"Rose\", 1, 1, 48))\n",
    "my_playlist.add(object_media.Episode(\"Daleks\", 2, 1, 51))"
   ]
  },
  {
   "cell_type": "markdown",
   "metadata": {},
   "source": [
    "Nous pouvons toujours obtenir la liste des épisodes."
   ]
  },
  {
   "cell_type": "code",
   "execution_count": null,
   "metadata": {},
   "outputs": [],
   "source": [
    "print(\"Liste des épisodes de la playlist\", my_playlist.name)\n",
    "for episode in my_playlist.content():\n",
    "    print(episode)"
   ]
  },
  {
   "cell_type": "markdown",
   "metadata": {},
   "source": [
    "Pour la durée, il est nécessaire de faire évoluer la méthode `total_duration` de la classe `Playlist` afin qu'elle prenne en compte l'attribut `duration` des objets episode. N'oubliez pas qu'il existe une fonction [sum](https://docs.python.org/3/library/functions.html#sum).\n",
    "\n",
    "- Adaptez l'implémentation pour faire fonctionner le code suivant"
   ]
  },
  {
   "cell_type": "code",
   "execution_count": null,
   "metadata": {},
   "outputs": [],
   "source": [
    "print(\"Durée :\", my_playlist.total_duration())\n",
    "print(\"👍 Bonne réponse\" if my_playlist.total_duration() == 99 else \"👎 Mauvais résultat, revoyez le code\")"
   ]
  },
  {
   "cell_type": "markdown",
   "metadata": {},
   "source": [
    "Oh, tant que vous êtes là, pensez à documenter le code de la classe `Episode`.\n",
    "\n",
    "## Fiabilité de l'objet\n",
    "Au fait… Si dans le design initial, l'attribut `stack` était déclaré privé, c'est pour que le respect de la règle de gestion (un seul même épisode par playlist) soit appliquée via la méthode `add()`. Est-ce toujours le cas ?\n",
    "\n",
    "Testons…"
   ]
  },
  {
   "cell_type": "code",
   "execution_count": null,
   "metadata": {},
   "outputs": [],
   "source": [
    "my_playlist.add(object_media.Episode(\"In the TARDIS\", 3, 1, 48))\n",
    "list_content = my_playlist.content\n",
    "number_of_elements = len(list_content)\n",
    "my_playlist.add(object_media.Episode(\"In the TARDIS\", 3, 1, 48))\n",
    "print(\"👍 Bien\" if len(my_playlist.content) == list_content else \"👎 Aïe… \")"
   ]
  },
  {
   "cell_type": "markdown",
   "metadata": {},
   "source": [
    "Si le résultat n'est pas bon, c'est que votre implémentation du test d'égalité est toujours sur la comparaison de l'élément. Modifiez la méthode pour que ce code affiche le bon résultat (soit la méthode, soit en surchargeant la méthode `__eq__(self, other)` de la classe `Episode`.\n",
    "\n",
    "Maintenant, nous pouvons tester le code suivant. Observez bien la ligne 4…"
   ]
  },
  {
   "cell_type": "code",
   "execution_count": null,
   "metadata": {},
   "outputs": [],
   "source": [
    "my_playlist.add(object_media.Episode(\"In the TARDIS\", 3, 1, 48))\n",
    "list_content = my_playlist.content\n",
    "number_of_elements = len(list_content)\n",
    "list_content.append(object_media.Episode(\"In the TARDIS\", 3, 1, 48))\n",
    "print(\"👍 Bien\" if len(my_playlist.content) == list_content else \"👎 Aïe… \")"
   ]
  }
 ],
 "metadata": {
  "kernelspec": {
   "display_name": "Python 3",
   "language": "python",
   "name": "python3"
  },
  "language_info": {
   "codemirror_mode": {
    "name": "ipython",
    "version": 3
   },
   "file_extension": ".py",
   "mimetype": "text/x-python",
   "name": "python",
   "nbconvert_exporter": "python",
   "pygments_lexer": "ipython3",
   "version": "3.6.0"
  }
 },
 "nbformat": 4,
 "nbformat_minor": 2
}
