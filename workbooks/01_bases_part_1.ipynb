{
 "cells": [
  {
   "cell_type": "markdown",
   "metadata": {},
   "source": [
    "# Découverte du langage\n",
    "## les variables\n",
    "\n",
    "Nous avons vu que lorsqu'une donnée est affectée à une variable en Python, nous ne déclarons pas de type. Le type est défini par la valeur affectée à la variable.\n",
    "```python\n",
    "tp_name = \"Python\"\n",
    "tp_year = 1989\n",
    "```\n",
    "Ici, `tp_name` contient une donnée de type chaine de caractères (str) et `tp_year` une donnée de type entier (int). Vous pouvez vérifier ceci par la fonction `type(tp_name)`.\n",
    "\n",
    "Grâce à des fonctions, on peut transtyper une valeur. Dans l'exemple suivant, `tp_year` référence une valeur de type entier bien que la donnée initiale soit du type chaine de caractères\n",
    "```python\n",
    "tp_year = int(\"1989\")\n",
    "```\n",
    "\n",
    "Afficher la valeur d'une variable est réalisé avec la fonction `print()`:\n",
    "```python\n",
    "print(tp_name)\n",
    "```\n",
    "\n",
    "### Exercices\n",
    "Affectez les valeurs **6.892** et **19.7** aux variables `temps` (secondes) et `distance` (mètres). Calculez et affichez la valeur de la vitesse (qui sera donc en m/s)."
   ]
  },
  {
   "cell_type": "code",
   "execution_count": null,
   "metadata": {},
   "outputs": [],
   "source": []
  },
  {
   "cell_type": "markdown",
   "metadata": {},
   "source": [
    "La cellule suivante déclare une variable `duree_heure`. Affectez à une variable `nombre_jours` une valeur correspondant au nombre de jours de formation. Multipliez les deux variables pour obtenir la durée en heure de la formation. Attention au type…"
   ]
  },
  {
   "cell_type": "code",
   "execution_count": null,
   "metadata": {
    "collapsed": true
   },
   "outputs": [],
   "source": [
    "duree_heure = \"7\""
   ]
  }
 ],
 "metadata": {
  "kernelspec": {
   "display_name": "Python 3",
   "language": "python",
   "name": "python3"
  },
  "language_info": {
   "codemirror_mode": {
    "name": "ipython",
    "version": 3
   },
   "file_extension": ".py",
   "mimetype": "text/x-python",
   "name": "python",
   "nbconvert_exporter": "python",
   "pygments_lexer": "ipython3",
   "version": "3.6.0"
  }
 },
 "nbformat": 4,
 "nbformat_minor": 1
}
