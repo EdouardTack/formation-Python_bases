{
 "cells": [
  {
   "cell_type": "markdown",
   "metadata": {},
   "source": [
    "# Les fichiers"
   ]
  },
  {
   "cell_type": "markdown",
   "metadata": {},
   "source": [
    "Dans votre arborescence, vous avez un fichier `assets/showslist.csv`. Modifiez la variable suivante pour qu'elle s'y réfère par son chemin absolu afin d'éviter tout problème."
   ]
  },
  {
   "cell_type": "code",
   "execution_count": null,
   "metadata": {},
   "outputs": [],
   "source": [
    "file_path = \"/formation-Python_bases/assets/showslist.csv\""
   ]
  },
  {
   "cell_type": "markdown",
   "metadata": {},
   "source": [
    "Ouvrez ce fichier et itérez sur les lignes pour les afficher."
   ]
  },
  {
   "cell_type": "code",
   "execution_count": null,
   "metadata": {},
   "outputs": [],
   "source": []
  },
  {
   "cell_type": "markdown",
   "metadata": {},
   "source": [
    "Ce fichier est de type CSV, chaque ligne contient plusieurs champs. Refaites l'opération pour afficher chaque ligne sous forme d'une liste des champs."
   ]
  },
  {
   "cell_type": "code",
   "execution_count": null,
   "metadata": {},
   "outputs": [],
   "source": []
  },
  {
   "cell_type": "markdown",
   "metadata": {},
   "source": [
    "Améliorez ce code pour afficher chaque champ dans le *bon* type (l'année, par exemple, doit être de type `int`)"
   ]
  },
  {
   "cell_type": "code",
   "execution_count": null,
   "metadata": {},
   "outputs": [],
   "source": []
  },
  {
   "cell_type": "markdown",
   "metadata": {},
   "source": [
    "Enfin, intégrez ce code dans une fonction. Le plus adapté pour ce type de fonction est d'en faire un générateur qui retourne chaque *ligne* de manière itérative."
   ]
  },
  {
   "cell_type": "code",
   "execution_count": null,
   "metadata": {},
   "outputs": [],
   "source": []
  },
  {
   "cell_type": "markdown",
   "metadata": {},
   "source": [
    "Vous allez par la suite déplacer cette fonction dans un module `file_helper_v1.py` dans le package `stage`. Le *_v1* anticipe une évolution de ce code.\n",
    "Vous créerez un module `main.py` qui va utiliser cette fonction afin de créer un dictionnaire. Les clefs de ce dictionnaire seront les titres de séries. Les valeurs seront une liste d'épisodes. Chaque épisode sera représenté par une liste selon la structure suivante :\n",
    "\n",
    "`['titre', numero, saison, durée, année]`\n",
    "\n",
    "Vous ajouterez ensuite une fonction permetant de calculer la durée de chaque série (voir les exercices sur les Comprehension Lists) et afficherez chaque série avec sa durée."
   ]
  },
  {
   "cell_type": "code",
   "execution_count": null,
   "metadata": {},
   "outputs": [],
   "source": []
  }
 ],
 "metadata": {
  "kernelspec": {
   "display_name": "Python 3",
   "language": "python",
   "name": "python3"
  },
  "language_info": {
   "codemirror_mode": {
    "name": "ipython",
    "version": 3
   },
   "file_extension": ".py",
   "mimetype": "text/x-python",
   "name": "python",
   "nbconvert_exporter": "python",
   "pygments_lexer": "ipython3",
   "version": "3.8.5"
  }
 },
 "nbformat": 4,
 "nbformat_minor": 4
}
