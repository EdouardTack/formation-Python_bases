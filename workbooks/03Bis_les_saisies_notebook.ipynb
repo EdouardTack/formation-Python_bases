{
 "cells": [
  {
   "cell_type": "markdown",
   "metadata": {},
   "source": [
    "# Les contrôles intéractifs.\n",
    "\n",
    "Pour cela, nous allons avoir besoin d'une autre dépendance qu'il faut installer spécifiquement (elle peut-être dans le fichier *requirements*).\n",
    "```bash\n",
    "pip install ipywidgets\n",
    "```\n",
    "\n",
    "Avant de lancer les notebooks, nous allons devoir exécuter une autre instruction avant de lancer le notebook. Ces instructions peuvent évidemment être groupées dans un script.\n",
    "```bash\n",
    "jupyter nbextension enable --py widgetsnbextension\n",
    "jupyter notebook\n",
    "```"
   ]
  },
  {
   "cell_type": "markdown",
   "metadata": {},
   "source": [
    "## Afficher la température avec un slider.\n",
    "L'exemple suivant reprends la gestion de la température et va vous montrer comment afficher cette température avec un simple slider."
   ]
  },
  {
   "cell_type": "code",
   "execution_count": 3,
   "metadata": {},
   "outputs": [
    {
     "data": {
      "application/vnd.jupyter.widget-view+json": {
       "model_id": "b6f20de82cf84f15bb7522fd115b410d",
       "version_major": 2,
       "version_minor": 0
      },
      "text/plain": [
       "interactive(children=(IntSlider(value=20, description='temp', max=40, min=-20), Output()), _dom_classes=('widg…"
      ]
     },
     "metadata": {},
     "output_type": "display_data"
    }
   ],
   "source": [
    "import ipywidgets as widgets\n",
    "\n",
    "T_MAX = 26\n",
    "T_MIN = 18\n",
    "\n",
    "@widgets.interact(temp=(-20, 40))\n",
    "def display_condition(temp=20):\n",
    "    if temp > T_MAX:\n",
    "        print('Stop, trop chaud !')\n",
    "    elif temp < T_MIN:\n",
    "        print('Froid, chauffons')\n",
    "    else:\n",
    "        print('Tout est Ok')"
   ]
  },
  {
   "cell_type": "code",
   "execution_count": null,
   "metadata": {},
   "outputs": [],
   "source": []
  }
 ],
 "metadata": {
  "kernelspec": {
   "display_name": "Python 3",
   "language": "python",
   "name": "python3"
  },
  "language_info": {
   "codemirror_mode": {
    "name": "ipython",
    "version": 3
   },
   "file_extension": ".py",
   "mimetype": "text/x-python",
   "name": "python",
   "nbconvert_exporter": "python",
   "pygments_lexer": "ipython3",
   "version": "3.8.0"
  }
 },
 "nbformat": 4,
 "nbformat_minor": 4
}
