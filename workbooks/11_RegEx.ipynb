{
 "cells": [
  {
   "cell_type": "markdown",
   "metadata": {},
   "source": [
    "# Les expressions rationnelles\n",
    "\n",
    "Les **expressions rationnelles**, **expressions régulières** ou simplement **RegEx** sont un puissant moyen pour rechercher ou isoler une chaine de caractères. Elles permettent la recherche d’un motif ou la validation d’une chaine de caractères.\n",
    "\n",
    "En Python, elles sont proposées par le module `re`.\n",
    "\n",
    "Pour utiliser les RegEx, il nous faut définir un motif. Grâce à ce motif, nous pourrons rechercher sa présence dans une chaine de caractères.\n",
    "\n",
    "Pour rechercher ce motif dans une chaine de caractères, nous utiliserons la fonction `re.search(motif, chaine)`. Si le motif est présent, cette fonction retourne un objet sinon None. nous pouvons donc tester si un motif est présent.\n",
    "\n",
    "## Définir un motif\n",
    "Un motif est une chaine de caractères décrivant les caractères attendus. Ainsi, un motif `\"chat\"` permet d'identifier le mot `chat`. Vous pouvez tester avec le code suivant qui retournera un objet dans chaque cas."
   ]
  },
  {
   "cell_type": "code",
   "execution_count": null,
   "metadata": {},
   "outputs": [],
   "source": [
    "import re\n",
    "print(re.search('chat', 'chat'))\n",
    "print(re.search('chat', 'achat'))\n",
    "print(re.search('chat', 'chaton'))\n",
    "print(re.search('chat', 'un chat noir'))"
   ]
  },
  {
   "cell_type": "markdown",
   "metadata": {},
   "source": [
    "## Position d'un motif\n",
    "Le symbol `^` en premier caractère est un marqueur indiquant que le motif doit être en début de chaine."
   ]
  },
  {
   "cell_type": "code",
   "execution_count": null,
   "metadata": {},
   "outputs": [],
   "source": [
    "import re\n",
    "print(re.search('^chat', 'chat'))\n",
    "print(re.search('^chat', 'achat')) # Motif non trouvé\n",
    "print(re.search('^chat', 'chaton'))\n",
    "print(re.search('^chat', 'un chat noir')) # Motif non trouvé"
   ]
  },
  {
   "cell_type": "markdown",
   "metadata": {},
   "source": [
    "Le symbole `$` en dernier caractère est un marqueur indiquant que le motif doit être en fin de chaine."
   ]
  },
  {
   "cell_type": "code",
   "execution_count": null,
   "metadata": {},
   "outputs": [],
   "source": [
    "import re\n",
    "print(re.search('chat$', 'chat'))\n",
    "print(re.search('chat$', 'achat'))\n",
    "print(re.search('chat$', 'chaton')) # Motif non trouvé\n",
    "print(re.search('chat$', 'un chat noir')) # Motif non trouvé"
   ]
  },
  {
   "cell_type": "markdown",
   "metadata": {},
   "source": [
    "### Les classes de caractères\n",
    "\n",
    "Lorsque dans le motif, un caractère à une certaine position peut prendre plusieurs valeurs :\n",
    "\n",
    " - `[aeiouy]` les crochets permettent de définir le caractère recherché parmi ceux entre crochets (ici une voyelle)\n",
    " - `[a-d]` un tiret entre deux caractères dans les crochets définit une *plage* de caractères. Ceci est équivalent à `[abcd]`.\n",
    " - `[a-dA-D]` les regex sont sensibles à la casse, il faut donc spécifier les deux plages. Ceci est équivalent à `[abcdABCD]`.\n",
    " - `[^a-d]` le symbol `^` en premier caractère dans les crochets représente une négation. Ici, il s'agit donc de n'importe quel caractère sauf [a-d].\n",
    " - `.` le point représente n'importe quel caractère."
   ]
  },
  {
   "cell_type": "code",
   "execution_count": null,
   "metadata": {},
   "outputs": [],
   "source": [
    "import re\n",
    "droid_pattern = \"[A-Z]-[0-9][A-Z][A-Z]\"\n",
    "print(re.search(droid_pattern, \"C-3PO\"))\n",
    "print(re.search(droid_pattern, \"R2-D2\"))\n",
    "print(re.search(droid_pattern, \"K-2SO\"))\n",
    "print(re.search(droid_pattern, \"Chopper\"))"
   ]
  },
  {
   "cell_type": "markdown",
   "metadata": {},
   "source": [
    "### Les répétitions\n",
    "\n",
    "Lorsque dans le motif un caractère est suivi d'un de ces symboles, on recherche :\n",
    "\n",
    " - `*` : 0, 1 ou plusieurs occurences\n",
    " - `+` : 1 ou plusieurs occurences\n",
    " - `?` : 0 ou 1 occurences\n",
    " - `{m}` : exactement m occurences\n",
    " - `{m, n}` : entre m et n occurences\n",
    " - `{, n}` : de zero à n occurences\n",
    " - `{m, }` : au moins m occurences"
   ]
  },
  {
   "cell_type": "code",
   "execution_count": null,
   "metadata": {},
   "outputs": [],
   "source": [
    "import re\n",
    "droid_pattern = \"[A-Z]-[0-9][A-Z]{2}\"\n",
    "print(re.search(droid_pattern, \"C-3PO\"))\n",
    "print(re.search(droid_pattern, \"R2-D2\"))\n",
    "print(re.search(droid_pattern, \"K-2SO\"))\n",
    "print(re.search(droid_pattern, \"Chopper\"))"
   ]
  },
  {
   "cell_type": "markdown",
   "metadata": {},
   "source": [
    "### Les groupes\n",
    "\n",
    "Cette partie sera ajoutée, en attendant, veuillez vous référer au support."
   ]
  },
  {
   "cell_type": "code",
   "execution_count": null,
   "metadata": {},
   "outputs": [],
   "source": []
  }
 ],
 "metadata": {
  "kernelspec": {
   "display_name": "Python 3",
   "language": "python",
   "name": "python3"
  },
  "language_info": {
   "codemirror_mode": {
    "name": "ipython",
    "version": 3
   },
   "file_extension": ".py",
   "mimetype": "text/x-python",
   "name": "python",
   "nbconvert_exporter": "python",
   "pygments_lexer": "ipython3",
   "version": "3.6.0"
  }
 },
 "nbformat": 4,
 "nbformat_minor": 2
}
