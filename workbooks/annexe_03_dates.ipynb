{
 "cells": [
  {
   "cell_type": "markdown",
   "metadata": {},
   "source": [
    "# Les dates et les timezone\n",
    "\n",
    "La librairie standard ne définit pas de timezone. Elle fournit une classe `timezone`, spécialisation simple de `tzinfo` qui s'instancie en passant en paramètre un `timedelta`. Celui-ci doit avoir +/- 24 heures."
   ]
  },
  {
   "cell_type": "code",
   "execution_count": null,
   "metadata": {},
   "outputs": [],
   "source": [
    "import datetime as dt\n",
    "\n",
    "print(dt.datetime.now())\n",
    "\n",
    "instant = dt.datetime.now(dt.timezone(dt.timedelta(hours=2)))\n",
    "\n",
    "print(instant)\n",
    "print(instant.tzinfo)"
   ]
  },
  {
   "cell_type": "code",
   "execution_count": null,
   "metadata": {},
   "outputs": [],
   "source": [
    "instant = dt.datetime.now(dt.timezone(dt.timedelta(hours=2), name=\"plus_2\"))\n",
    "print(instant)\n",
    "print(instant.tzinfo)"
   ]
  },
  {
   "cell_type": "code",
   "execution_count": null,
   "metadata": {},
   "outputs": [],
   "source": [
    "autre_instant = dt.datetime.now(dt.timezone(dt.timedelta(hours=1), name=\"plus_1\"))\n",
    "print(autre_instant)"
   ]
  },
  {
   "cell_type": "code",
   "execution_count": null,
   "metadata": {},
   "outputs": [],
   "source": [
    "autre_instant - instant"
   ]
  },
  {
   "cell_type": "markdown",
   "metadata": {},
   "source": [
    "### Avec la librairie `pytz`"
   ]
  },
  {
   "cell_type": "code",
   "execution_count": null,
   "metadata": {},
   "outputs": [],
   "source": [
    "import pytz\n",
    "paris_tz = pytz.timezone('Europe/Paris')"
   ]
  },
  {
   "cell_type": "code",
   "execution_count": null,
   "metadata": {},
   "outputs": [],
   "source": [
    "pytz.all_timezones"
   ]
  },
  {
   "cell_type": "code",
   "execution_count": null,
   "metadata": {},
   "outputs": [],
   "source": [
    "h_france = dt.datetime.now()\n",
    "print(h_france)\n",
    "\n",
    "h_paris_tz = paris_tz.localize(h_france)\n",
    "print(h_paris_tz)"
   ]
  },
  {
   "cell_type": "code",
   "execution_count": null,
   "metadata": {},
   "outputs": [],
   "source": [
    "london_tz = pytz.timezone('Europe/London')\n",
    "\n",
    "h_uk = dt.datetime.now()\n",
    "print(h_uk)\n",
    "\n",
    "h_london_tz = london_tz.localize(h_uk)\n",
    "print(h_london_tz)"
   ]
  },
  {
   "cell_type": "code",
   "execution_count": null,
   "metadata": {},
   "outputs": [],
   "source": [
    "h_london_ptz = h_london_tz.astimezone(paris_tz)\n",
    "print(h_london_ptz)"
   ]
  },
  {
   "cell_type": "code",
   "execution_count": null,
   "metadata": {},
   "outputs": [],
   "source": [
    "h_london_tz == h_london_ptz"
   ]
  },
  {
   "cell_type": "code",
   "execution_count": null,
   "metadata": {},
   "outputs": [],
   "source": [
    "print(h_london_tz.hour)\n",
    "print(h_paris_tz.hour)\n",
    "print(h_london_tz - h_paris_tz)"
   ]
  },
  {
   "cell_type": "markdown",
   "metadata": {},
   "source": [
    "### Prise en compte du changement d'heure"
   ]
  },
  {
   "cell_type": "code",
   "execution_count": null,
   "metadata": {},
   "outputs": [],
   "source": [
    "pre_ete = paris_tz.localize(dt.datetime(2019, 3, 30))\n",
    "#pre_ete = dt.datetime(2019, 3, 30, tzinfo=paris_tz)\n",
    "post_ete = paris_tz.localize(dt.datetime(2019, 4, 2))\n",
    "print(pre_ete)\n",
    "print(post_ete)"
   ]
  },
  {
   "cell_type": "code",
   "execution_count": null,
   "metadata": {},
   "outputs": [],
   "source": [
    "post_ete - pre_ete"
   ]
  },
  {
   "cell_type": "code",
   "execution_count": null,
   "metadata": {},
   "outputs": [],
   "source": [
    "after_3_days = pre_ete + dt.timedelta(days=3)\n",
    "print(after_3_days)"
   ]
  },
  {
   "cell_type": "code",
   "execution_count": null,
   "metadata": {},
   "outputs": [],
   "source": [
    "print(after_3_days.astimezone(paris_tz))"
   ]
  },
  {
   "cell_type": "code",
   "execution_count": null,
   "metadata": {},
   "outputs": [],
   "source": []
  }
 ],
 "metadata": {
  "kernelspec": {
   "display_name": "Python 3",
   "language": "python",
   "name": "python3"
  },
  "language_info": {
   "codemirror_mode": {
    "name": "ipython",
    "version": 3
   },
   "file_extension": ".py",
   "mimetype": "text/x-python",
   "name": "python",
   "nbconvert_exporter": "python",
   "pygments_lexer": "ipython3",
   "version": "3.7.0"
  }
 },
 "nbformat": 4,
 "nbformat_minor": 2
}
