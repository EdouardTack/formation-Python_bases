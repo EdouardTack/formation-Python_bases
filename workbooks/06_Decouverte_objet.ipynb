{
 "cells": [
  {
   "cell_type": "markdown",
   "metadata": {},
   "source": [
    "# Découvrons l'objet\n",
    "\n",
    "La programmation orientée objet est un paradigme de programmation reposant sur des composants appelés *objets*.\n",
    "\n",
    "Un objet est une entité qui regroupe un état (une ou plusieurs données) et des comportements (des *fonctions* propres).\n",
    "\n",
    "Vous avez déjà manipulé des objets. Les données de type `list` par exemple sont des objets. Leur *état* correspond à leur valeur, la liste en tant que donnée et leur *comportements* correspondent aux méthodes que vous avez déjà manipulé comme `append()`, `sort()` ou `pop()`. Le type `list` correspond à un objet de type *simple* (il ne contient qu'une seule donnée).\n",
    "\n",
    "Les types *built in* de Python sont créés par des instructions particulières ou des fonctions elles aussi *built-in*. Les objets sont créés plus généralement en appelant la classe et en lui fournissant des paramètres.\n",
    "\n",
    "\n",
    "## La gestion de données\n",
    "Pour illustrer un usage du concept objet nous voulons faire une gestion plus avancée d'une liste d'éléments afin de gérer la notion de *playlist* de médias afin de mieux gérer les épisodes de Daredevil… ou autre qui nous reste à voir.\n",
    "\n",
    "Le média sera représenté par un titre, soit une chaine de caractères.\n",
    "\n",
    "Nous voulons ajouter des éléments et obtenir le prochain à voir selon cet ordre d'ajout. Ceci est naturellement possible avec les méthodes de liste `append()` et `pop(0)` et du fait que le type list est une collection d'éléments ordonnés. Nous avons cependant une règle de gestion qui imposera que nous ne pouvons avoir de doublon dans cette liste, elle ne peut donc pas contenir deux fois le même titre. Pour rappel, une liste est une collection d'éléments redondants.\n",
    "\n",
    "Enfin, nous souhaitons savoir quelle est la durée de cette playlist en minutes.\n",
    "\n",
    "## L'approche procédurale\n",
    "Nous pouvons tout à fait gérer cette attente avec une liste et imposer les règles avec des fonctions. Ainsi, nous aurons :\n",
    "```python\n",
    "my_playlist = []\n",
    "\n",
    "def add_to_playlist(title):\n",
    "    if title not in my_playlist:\n",
    "        my_playlist.append(title)\n",
    "        \n",
    "def get_next_title():\n",
    "    return my_playlist.pop(0)\n",
    "\n",
    "def get_duration():\n",
    "    return len(my_playlist) * 53\n",
    "```\n",
    "\n",
    "Mais nous n'avons aucune assurance que les fonctions seront utilisées selon cette procédure. Vous pouvez librement faire un appel à `my_playlist.append()` et ainsi passer à travers la vérification de `add_to_playlist()`.\n",
    "\n",
    "Une autre limite est que nous pouvons difficilement multiplier les playlists… Si nous voulons gérer deux playlists, que l'utilisateur manipulera par un nom, il faut changer ce code en profondeur, et ainsi, *casser* le fonctionnement existant.\n",
    "\n",
    "## L'approche objet\n",
    "Le paradigme objet permet de créer un type correspondant à notre besoin. L'arborescence du Notebook contient un module `utility.demo.object_discovery` qui contient une classe `Playlist`. Le modèle de cette classe est le suivant :\n",
    "<img src=\"assets/playlist_uml.png\" alt=\"Modèle UML d'une Playlist\" title=\"Playlist UML\" />\n",
    "\n",
    "Cet objet est créé par un constructeur qui ne nécessite que le nom de la playlist. L'attribut `stack` est créé par ce constructeur et est privée."
   ]
  },
  {
   "cell_type": "code",
   "execution_count": null,
   "metadata": {},
   "outputs": [],
   "source": [
    "from stage import object_discovery\n",
    "\n",
    "my_list = object_discovery.Playlist('Daredevil')"
   ]
  },
  {
   "cell_type": "markdown",
   "metadata": {},
   "source": [
    "Vous pouvez maintenant *manipuler* l'objet `my_list`. Vous pouvez obtenir son nom en faisant appel à l'attribut `my_list.name` ou la durée en faisant appel à la méthode `my_list.total_time()`. Cette dernière méthode retourne une valeur."
   ]
  },
  {
   "cell_type": "code",
   "execution_count": null,
   "metadata": {},
   "outputs": [],
   "source": [
    "print(\"Nom\", my_list.name)\n",
    "print(\"Durée\", my_list.total_duration())"
   ]
  },
  {
   "cell_type": "markdown",
   "metadata": {},
   "source": [
    "Puisque `name` est public, vous pouvez le modifier en affectant une nouvelle valeur à l'attribut."
   ]
  },
  {
   "cell_type": "code",
   "execution_count": null,
   "metadata": {},
   "outputs": [],
   "source": [
    "my_list.name = \"Dr. Who\"\n",
    "print(\"Nom\", my_list.name)"
   ]
  },
  {
   "cell_type": "markdown",
   "metadata": {},
   "source": [
    "Cependant, vous ne pouvez pas directement modifier la liste des éléments en affectant une nouvelle valeur car cet attribut est privé.\n",
    "\n",
    "Vous ne pouvez pas non plus consulter la liste des épisodes restants, pour cela, il faut utiliser la méthode `content()`.\n",
    "\n",
    "Pour faire évoluer le nombre d'éléments, il faut utiliser les méthodes `add(title)` qui ajoute un élément et `get()` qui en retourne un."
   ]
  },
  {
   "cell_type": "code",
   "execution_count": null,
   "metadata": {},
   "outputs": [],
   "source": [
    "my_list.add(\"Rose\")\n",
    "print(\"nombre d'éléméents\", len(my_list.content()))\n",
    "my_list.add('Daleks')\n",
    "print(\"nombre d'éléméents\", len(my_list.content()))\n",
    "print(\"élément suivant\", my_list.get())\n",
    "print(\"nombre d'éléméents\", len(my_list.content()))"
   ]
  },
  {
   "cell_type": "markdown",
   "metadata": {},
   "source": [
    "Vous pouvez voir l'évolution de la durée de la playsit à l'aide de la méthode `total_time()` (qui considère la durée de chaque épisode à 53 minutes)."
   ]
  },
  {
   "cell_type": "code",
   "execution_count": null,
   "metadata": {},
   "outputs": [],
   "source": []
  }
 ],
 "metadata": {
  "kernelspec": {
   "display_name": "Python 3",
   "language": "python",
   "name": "python3"
  },
  "language_info": {
   "codemirror_mode": {
    "name": "ipython",
    "version": 3
   },
   "file_extension": ".py",
   "mimetype": "text/x-python",
   "name": "python",
   "nbconvert_exporter": "python",
   "pygments_lexer": "ipython3",
   "version": "3.6.0"
  }
 },
 "nbformat": 4,
 "nbformat_minor": 2
}
