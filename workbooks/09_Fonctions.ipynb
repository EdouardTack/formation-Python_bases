{
 "cells": [
  {
   "cell_type": "markdown",
   "metadata": {},
   "source": [
    "# Les fonctions, exercice de synthèse\n",
    "\n",
    "## Test de palindromes - exercice d'illustration\n",
    "Une fonction permet également d'éviter les imbrications excessives de structures et ainsi rendre le code plus compréhensible.\n",
    "\n",
    "Pour l'exercice suivant, nous souhaitons tester si chaque chaine de la liste `SENTENCES` est un palindrome. Le palindrome est une figure de style désignant un texte ou un mot dont l'ordre des lettres (hors espaces) reste le même qu'on le lise de gauche à droite ou de droite à gauche.\n",
    "\n",
    "Nous souhaitons donc générer une liste `palindrom_result` où chaque élément `palindrom_result[i]` est un booléen de valeur `True` si l'élément à `SENTENCES[i]` est un palindrome, `False` sinon.\n",
    "\n",
    "Vous n'avez à priori pas besoin d'une fonction pour générer cette liste. Écrivez le code générant la liste `palindrom_result`.\n",
    "\n",
    "**Rappel** : pour itérer sur une collection tout en récupérant l'indice, vous avez la fonction `enumerate(collection)` :\n",
    "```python\n",
    ">>> for element in enumerate('radar'):\n",
    "...     print(element)\n",
    "...\n",
    "(0, 'r')\n",
    "(1, 'a')\n",
    "(2, 'd')\n",
    "(3, 'a')\n",
    "(4, 'r')\n",
    "```\n",
    "L'usage d'indices négatifs permet d'accéder aux éléments d'une collection à partir de la fin :\n",
    "```python\n",
    ">>> print('Esope'[-1])\n",
    "e\n",
    "```"
   ]
  },
  {
   "cell_type": "code",
   "execution_count": null,
   "metadata": {},
   "outputs": [],
   "source": [
    "SENTENCES = [\"Esope reste ici et se repose\",\n",
    "             \"La mariée ira mal\",\n",
    "             \"radar\"]"
   ]
  },
  {
   "cell_type": "code",
   "execution_count": null,
   "metadata": {},
   "outputs": [],
   "source": []
  },
  {
   "cell_type": "markdown",
   "metadata": {},
   "source": [
    "Vous pouvez extraire une fonction de ce code. La fonction s'appellera `is_palindrome(sequence)` et retournera un booléen. Réécrivez le en conséquence."
   ]
  },
  {
   "cell_type": "code",
   "execution_count": null,
   "metadata": {},
   "outputs": [],
   "source": []
  },
  {
   "cell_type": "code",
   "execution_count": null,
   "metadata": {},
   "outputs": [],
   "source": []
  }
 ],
 "metadata": {
  "kernelspec": {
   "display_name": "Python 3",
   "language": "python",
   "name": "python3"
  },
  "language_info": {
   "codemirror_mode": {
    "name": "ipython",
    "version": 3
   },
   "file_extension": ".py",
   "mimetype": "text/x-python",
   "name": "python",
   "nbconvert_exporter": "python",
   "pygments_lexer": "ipython3",
   "version": "3.8.5"
  }
 },
 "nbformat": 4,
 "nbformat_minor": 1
}
